{
  "cells": [
    {
      "cell_type": "code",
      "execution_count": null,
      "metadata": {
        "id": "dYfLYOkvjwRc"
      },
      "outputs": [],
      "source": [
        "import  numpy as np\n",
        "from scipy.spatial import distance\n",
        "import matplotlib.pyplot as plt\n",
        "import time\n",
        "import pandas as pd\n",
        "from itertools import product\n",
        "from sklearn.metrics import roc_auc_score\n",
        "import scipy.io\n",
        "import time\n",
        "from sklearn.model_selection import train_test_split\n",
        "\n",
        "import pandas as pd"
      ]
    },
    {
      "cell_type": "code",
      "execution_count": null,
      "metadata": {
        "colab": {
          "base_uri": "https://localhost:8080/"
        },
        "id": "5xqxEI5JJ5JN",
        "outputId": "806945d5-ea5d-4de7-c02a-6633bf761fdd"
      },
      "outputs": [
        {
          "name": "stdout",
          "output_type": "stream",
          "text": [
            "Drive already mounted at /content/drive; to attempt to forcibly remount, call drive.mount(\"/content/drive\", force_remount=True).\n"
          ]
        }
      ],
      "source": [
        "from google.colab import drive\n",
        "drive.mount('/content/drive')"
      ]
    },
    {
      "cell_type": "markdown",
      "metadata": {
        "id": "9EYzUNgyAjNN"
      },
      "source": [
        "\n"
      ]
    },
    {
      "cell_type": "code",
      "execution_count": null,
      "metadata": {
        "id": "wb2x2mPVJ-Lt"
      },
      "outputs": [],
      "source": [
        "import sys\n",
        "sys.path.append('/content/drive/MyDrive/IA326/project')"
      ]
    },
    {
      "cell_type": "markdown",
      "metadata": {
        "id": "5fF4-JbJfWTV"
      },
      "source": [
        "## Algorithm"
      ]
    },
    {
      "cell_type": "code",
      "execution_count": null,
      "metadata": {
        "id": "YgW2S48Xiejc"
      },
      "outputs": [],
      "source": [
        "class FISVDD():\n",
        "  def __init__(self, data, sigma, eps_cp=1e-8, eps_ol=1e-8):\n",
        "        self.data = data\n",
        "        self.sigma = sigma\n",
        "        self.eps_cp = eps_cp\n",
        "        self.eps_ol = eps_ol\n",
        "\n",
        "        self.inv_A = np.array([1])\n",
        "        self.alpha = np.array([1])\n",
        "        self.sv = np.array([self.data[0]])\n",
        "        self.obj_val = []\n",
        "        self.backup = []\n",
        "        self.Q = 1\n",
        "  def score_fcn(self, new_sv):\n",
        "\n",
        "        dist_sq = np.linalg.norm(new_sv -  self.sv, axis = 1)\n",
        "        cur_sim_vec = np.exp(-np.square(dist_sq) / (2.0 * self.sigma * self.sigma))\n",
        "        m = max(cur_sim_vec)\n",
        "        if m < self.eps_ol or m > 1 - self.eps_cp:\n",
        "            res = -1\n",
        "        else:\n",
        "            res = self.Q - np.dot(self.alpha, cur_sim_vec)\n",
        "        return res, cur_sim_vec\n",
        "\n",
        "\n",
        "  def kernel(self, new_sv):\n",
        "\n",
        "\n",
        "    dist = np.linalg.norm(new_sv- self.sv, axis = 1)\n",
        "\n",
        "    return np.exp( -np.square(dist)/(2*self.sigma**2) )\n",
        "  def increase_inv_A(self, v):\n",
        "    p = np.dot(self.inv_A, v)\n",
        "    beta = 1 - np.dot(v, p)\n",
        "\n",
        "    t_a = len(self.inv_A)\n",
        "    new_inv_A = np.ones((t_a + 1, t_a + 1))\n",
        "    new_inv_A[ : t_a, : t_a] = self.inv_A + (1/beta) * np.outer(p, p)\n",
        "    new_inv_A[: t_a, t_a] = - (1/beta)* p\n",
        "    new_inv_A[ t_a, : t_a] = - (1/beta)* p\n",
        "    new_inv_A[ t_a,  t_a] = 1/beta\n",
        "    return new_inv_A\n",
        "  def decrease_inv_A(self):\n",
        "    k = len(self.inv_A) - 1\n",
        "    P = self.inv_A[: k , : k ]\n",
        "    u = self.inv_A[ : k, k]\n",
        "    lambda_ = self.inv_A[k, k]\n",
        "    new_inv_A = P - (1/lambda_)* np.outer(u, u)\n",
        "    return new_inv_A\n",
        "  def permutation(self, mat, ind):\n",
        "    n = len(mat)\n",
        "    perm = np.arange(n)\n",
        "    perm[:ind] = np.arange(0, ind)\n",
        "    perm[ind:n-1] = np.arange(ind+1, n)\n",
        "    perm[n-1] = ind\n",
        "    temp = mat[:, perm]\n",
        "    perm_mat = temp[perm, :]\n",
        "    return perm_mat\n",
        "\n",
        "  def expand(self, new_sv, v):\n",
        "\n",
        "    old_inv_A = self.inv_A\n",
        "    self.inv_A = self.increase_inv_A(v)\n",
        "    old_alpha = self.alpha\n",
        "    self.alpha =  np.sum(self.inv_A, axis=1)\n",
        "    if self.alpha[-1] <= 0 :\n",
        "      self.inv_A = old_inv_A\n",
        "      self.alpha = old_alpha\n",
        "    else :\n",
        "      self.sv = np.vstack((self.sv, new_sv))\n",
        "\n",
        "  def shrink(self):\n",
        "    flag = 1\n",
        "    while flag == 1 :\n",
        "      p = np.argmin(self.alpha)\n",
        "      self.backup.append(self.sv[p])\n",
        "      self.sv = np.concatenate((self.sv[:p], self.sv[p+1:]))\n",
        "      self.inv_A = self.permutation(self.inv_A, p)\n",
        "      self.inv_A = self.decrease_inv_A()\n",
        "      self.alpha =  np.sum(self.inv_A, axis=1)\n",
        "      if min(self.alpha) > 0 :\n",
        "        flag = 0\n",
        "\n",
        "  def train(self):\n",
        "    for new_data in self.data[1:]:\n",
        "      i = 1\n",
        "\n",
        "      new_sv = np.array([new_data])\n",
        "      Q, v = self.score_fcn(new_data)\n",
        "      if Q <= 0 :\n",
        "        pass\n",
        "      else :\n",
        "        self.expand(new_sv, v)\n",
        "        if min(self.alpha) < 0 :\n",
        "          self.backup = []\n",
        "          self.shrink()\n",
        "          if len(self.backup) > 1 :\n",
        "            for j in range(len(self.backup)):\n",
        "              Q, v = self.score_fcn(new_data)\n",
        "              if Q > 0 :\n",
        "                self.expand(self.backup[j], v)\n",
        "\n",
        "              self.obj_val.append(self.Q)\n",
        "        self.Q = 1 / sum(self.alpha)\n",
        "        self.alpha = self.alpha/sum(self.alpha)\n",
        "\n",
        "  def predict(self, X):\n",
        "    y = np.zeros(len(X))\n",
        "    for i in range(len(X)):\n",
        "      res, _ = self.score_fcn(X[i])\n",
        "      if res > 0 :\n",
        "        y[i] =  1\n",
        "      else:\n",
        "        y[i] = 0\n",
        "    return y\n",
        "\n",
        "\n",
        "\n",
        "\n",
        "\n",
        "\n",
        "\n",
        "\n",
        "\n",
        "\n",
        "\n",
        "\n",
        "\n",
        "\n",
        "\n",
        "\n",
        "\n",
        "\n"
      ]
    },
    {
      "cell_type": "markdown",
      "metadata": {
        "id": "PS6Z5Q_ScFRf"
      },
      "source": [
        "## Training of hyperparamters\n"
      ]
    },
    {
      "cell_type": "code",
      "execution_count": null,
      "metadata": {
        "id": "WNGWmpoucI1Y"
      },
      "outputs": [],
      "source": [
        "import numpy as np\n",
        "from itertools import product\n",
        "from sklearn.metrics import roc_auc_score\n",
        "def k_fold_cross_validation(X_t, y_t,params, k=5 ):\n",
        "    indices_inliners = np.where(y_t == 0)[0]\n",
        "    indices_outliners = np.where(y_t == 1)[0]\n",
        "    X = X_t[indices_inliners]\n",
        "    y = y_t[indices_inliners]\n",
        "    n = len(X)\n",
        "    fold_size = n // k\n",
        "    indices = np.arange(n)\n",
        "\n",
        "    best_score = -1\n",
        "    best_params = None\n",
        "\n",
        "    for param in params:\n",
        "\n",
        "        mean_score = 0\n",
        "\n",
        "        for i in range(k):\n",
        "            validation_indices = indices[i * fold_size: (i + 1) * fold_size]\n",
        "\n",
        "            train_indices = np.concatenate((indices[:i * fold_size], indices[(i + 1) * fold_size:]))\n",
        "\n",
        "\n",
        "            X_train  = X[train_indices]\n",
        "            X_val = np.vstack(( X[validation_indices],  X_t[indices_outliners]))\n",
        "            y_train  = y[train_indices]\n",
        "            y_val =  np.vstack(( y[validation_indices],  y_t[indices_outliners]))\n",
        "\n",
        "            fd =  FISVDD(data= X_train, sigma= param)\n",
        "            fd.train()\n",
        "            score = roc_auc_score(y_val,  fd.predict(X_val))\n",
        "            print(score)\n",
        "            mean_score += score\n",
        "\n",
        "        mean_score /= k\n",
        "        print(mean_score)\n",
        "        print('nb_support_vec : ', len(fd.sv))\n",
        "        if mean_score > best_score:\n",
        "            best_score = mean_score\n",
        "            best_param = param\n",
        "\n",
        "    return best_param, best_score\n"
      ]
    },
    {
      "cell_type": "code",
      "execution_count": null,
      "metadata": {
        "id": "sFbKrgkmA6_G"
      },
      "outputs": [],
      "source": [
        "\n",
        "def mean_criterion_method(data):\n",
        "  N = len(data)\n",
        "  row_variances = np.var(data, axis=0)\n",
        "  sum_of_variances = np.sum(row_variances)\n",
        "  delta = np.sqrt(2)* 10**(-6)\n",
        "  sigma = np.sqrt(2* N*sum_of_variances/((N - 1)* np.log((N - 1)/delta**2)) )\n",
        "  return sigma"
      ]
    },
    {
      "cell_type": "markdown",
      "metadata": {
        "id": "ZZBLQH6BfPzm"
      },
      "source": [
        "## Features selection\n"
      ]
    },
    {
      "cell_type": "markdown",
      "metadata": {
        "id": "ctEvgTZblqnR"
      },
      "source": [
        "# Experiments"
      ]
    },
    {
      "cell_type": "code",
      "execution_count": null,
      "metadata": {
        "id": "F-4bcZh7WFGi"
      },
      "outputs": [],
      "source": []
    },
    {
      "cell_type": "code",
      "execution_count": null,
      "metadata": {
        "colab": {
          "base_uri": "https://localhost:8080/"
        },
        "id": "9oN2JCFPbBQF",
        "outputId": "e6cc7119-dc1b-40bb-db3e-10910383220a"
      },
      "outputs": [
        {
          "name": "stderr",
          "output_type": "stream",
          "text": [
            "<ipython-input-4-59f045f0133e>:41: DeprecationWarning: Conversion of an array with ndim > 0 to a scalar is deprecated, and will error in future. Ensure you extract a single element from your array before performing this operation. (Deprecated NumPy 1.25.)\n",
            "  new_inv_A[ t_a,  t_a] = 1/beta\n",
            "<ipython-input-4-59f045f0133e>:41: DeprecationWarning: Conversion of an array with ndim > 0 to a scalar is deprecated, and will error in future. Ensure you extract a single element from your array before performing this operation. (Deprecated NumPy 1.25.)\n",
            "  new_inv_A[ t_a,  t_a] = 1/beta\n",
            "<ipython-input-4-59f045f0133e>:41: DeprecationWarning: Conversion of an array with ndim > 0 to a scalar is deprecated, and will error in future. Ensure you extract a single element from your array before performing this operation. (Deprecated NumPy 1.25.)\n",
            "  new_inv_A[ t_a,  t_a] = 1/beta\n"
          ]
        }
      ],
      "source": [
        "import scipy.io\n",
        "import time\n",
        "from sklearn.model_selection import train_test_split\n",
        "from sklearn.metrics import roc_auc_score\n",
        "import pandas as pd\n",
        "data_sets = ['cover', 'mammography', 'satimage-2']\n",
        "sigmas = []\n",
        "train_obs = []\n",
        "nb_features = []\n",
        "roc_aux_scores =[]\n",
        "times = []\n",
        "sv = []\n",
        "for data_set in data_sets :\n",
        "  nom_fichier_mat = '/content/drive/MyDrive/IA326/project/' + data_set + '.mat'\n",
        "  donnees = scipy.io.loadmat(nom_fichier_mat)\n",
        "  indices_inliners = np.where(donnees['y'] == 0)[0]\n",
        "  indices_outliners = np.where(donnees['y'] == 1)[0]\n",
        "  sigma = sigma = mean_criterion_method(donnees['X'][indices_inliners])\n",
        "  sigmas.append(sigma)\n",
        "  X_train, X_test, y_train, y_test  = train_test_split(donnees['X'][indices_inliners] ,  donnees['y'][indices_inliners], test_size=1/5, random_state=42)\n",
        "  obs, features = X_train.shape\n",
        "  train_obs.append(obs)\n",
        "  nb_features.append(features)\n",
        "  debut = time.time()\n",
        "  fd =  FISVDD(X_train, sigma = sigma)\n",
        "  fd.train()\n",
        "  X_test_  = np.vstack((X_test,  donnees['X'][indices_outliners]))\n",
        "  y_test_ = np.vstack((y_test,  donnees['y'][indices_outliners]))\n",
        "  fin = time.time()\n",
        "  times.append(fin - debut)\n",
        "  score = roc_auc_score(y_test_,  fd.predict(X_test_))\n",
        "  roc_aux_scores.append(score)\n",
        "  sv.append(len(fd.sv))\n",
        "data = {'dataset ': data_sets,\n",
        "        'sigma': sigmas,\n",
        "        '#train obs': train_obs ,\n",
        "        'nb_features ' : nb_features ,\n",
        "        'AUROC' : roc_aux_scores,\n",
        "        'time' : times,\n",
        "        '#sv'  : sv  }\n",
        "\n",
        "df = pd.DataFrame(data)\n"
      ]
    },
    {
      "cell_type": "code",
      "execution_count": null,
      "metadata": {
        "colab": {
          "base_uri": "https://localhost:8080/"
        },
        "id": "4Hv3uynMmGAG",
        "outputId": "8732cad2-dce5-45fe-a27b-44466385183c"
      },
      "outputs": [
        {
          "name": "stdout",
          "output_type": "stream",
          "text": [
            "489.4091382291958\n"
          ]
        },
        {
          "name": "stderr",
          "output_type": "stream",
          "text": [
            "<ipython-input-3-59f045f0133e>:41: DeprecationWarning: Conversion of an array with ndim > 0 to a scalar is deprecated, and will error in future. Ensure you extract a single element from your array before performing this operation. (Deprecated NumPy 1.25.)\n",
            "  new_inv_A[ t_a,  t_a] = 1/beta\n"
          ]
        },
        {
          "name": "stdout",
          "output_type": "stream",
          "text": [
            "0.4345464703511498\n"
          ]
        },
        {
          "name": "stderr",
          "output_type": "stream",
          "text": [
            "<ipython-input-3-59f045f0133e>:41: DeprecationWarning: Conversion of an array with ndim > 0 to a scalar is deprecated, and will error in future. Ensure you extract a single element from your array before performing this operation. (Deprecated NumPy 1.25.)\n",
            "  new_inv_A[ t_a,  t_a] = 1/beta\n"
          ]
        },
        {
          "name": "stdout",
          "output_type": "stream",
          "text": [
            "20.730648854639163\n"
          ]
        },
        {
          "name": "stderr",
          "output_type": "stream",
          "text": [
            "<ipython-input-3-59f045f0133e>:41: DeprecationWarning: Conversion of an array with ndim > 0 to a scalar is deprecated, and will error in future. Ensure you extract a single element from your array before performing this operation. (Deprecated NumPy 1.25.)\n",
            "  new_inv_A[ t_a,  t_a] = 1/beta\n"
          ]
        }
      ],
      "source": [
        "from sklearn.preprocessing import StandardScaler\n",
        "from sklearn.decomposition import PCA\n",
        "\n",
        "\n",
        "data_sets = ['cover', 'mammography', 'satimage-2']\n",
        "sigmas = []\n",
        "train_obs = []\n",
        "nb_features = [4, 2, 5]\n",
        "roc_aux_scores =[]\n",
        "times = []\n",
        "sv = []\n",
        "i = 0\n",
        "for data_set in data_sets :\n",
        "\n",
        "  nom_fichier_mat = '/content/drive/MyDrive/IA326/project/' + data_set + '.mat'\n",
        "  donnees = scipy.io.loadmat(nom_fichier_mat)\n",
        "  indices_inliners = np.where(donnees['y'] == 0)[0]\n",
        "  indices_outliners = np.where(donnees['y'] == 1)[0]\n",
        "\n",
        "  transformer = PCA(n_components= 'mle', svd_solver = 'full' )\n",
        "  X_transformed = transformer.fit_transform(donnees['X'])\n",
        "  sigma =  mean_criterion_method(X_transformed[indices_inliners])\n",
        "  print(sigma)\n",
        "  sigmas.append(sigma)\n",
        "  X_train, X_test, y_train, y_test  = train_test_split(X_transformed[indices_inliners] ,  donnees['y'][indices_inliners], test_size=1/5, random_state=42)\n",
        "  obs, features = X_train.shape\n",
        "  train_obs.append(obs)\n",
        "\n",
        "  debut = time.time()\n",
        "  fd =  FISVDD(X_train, sigma = sigma)\n",
        "  fd.train()\n",
        "  X_test_  = np.vstack((X_test,  X_transformed[indices_outliners]))\n",
        "  y_test_ = np.vstack((y_test,  donnees['y'][indices_outliners]))\n",
        "  fin = time.time()\n",
        "  times.append(fin - debut)\n",
        "  score = roc_auc_score(y_test_,  fd.predict(X_test_))\n",
        "  roc_aux_scores.append(score)\n",
        "  sv.append(len(fd.sv))\n",
        "  i+=1\n",
        "data = {'dataset ': data_sets,\n",
        "        'sigma': sigmas,\n",
        "        '#train obs': train_obs ,\n",
        "        'nb_features ' : nb_features ,\n",
        "        'AUROC' : roc_aux_scores,\n",
        "        'time' : times,\n",
        "        '#sv'  : sv  }\n",
        "\n",
        "df_pca = pd.DataFrame(data)"
      ]
    },
    {
      "cell_type": "code",
      "execution_count": null,
      "metadata": {
        "id": "6XPEtVY_EBVI"
      },
      "outputs": [],
      "source": []
    },
    {
      "cell_type": "markdown",
      "metadata": {
        "id": "LYlaC8urECPm"
      },
      "source": [
        "### Traditional SVDD"
      ]
    },
    {
      "cell_type": "code",
      "execution_count": null,
      "metadata": {
        "id": "ARNbb0kyEFrk"
      },
      "outputs": [],
      "source": [
        "from sklearn.svm import OneClassSVM\n",
        "\n",
        "\n",
        "data_sets = ['cover', 'mammography', 'satimage-2']\n",
        "sigmas = []\n",
        "train_obs = []\n",
        "nb_features = [4, 2, 5]\n",
        "roc_aux_scores =[]\n",
        "times = []\n",
        "sv = []\n",
        "i = 0\n",
        "for data_set in data_sets :\n",
        "\n",
        "  nom_fichier_mat = '/content/drive/MyDrive/IA326/project/' + data_set + '.mat'\n",
        "  donnees = scipy.io.loadmat(nom_fichier_mat)\n",
        "  indices_inliners = np.where(donnees['y'] == 0)[0]\n",
        "  indices_outliners = np.where(donnees['y'] == 1)[0]\n",
        "  X_train, X_test, y_train, y_test  = train_test_split(donnees['X'][indices_inliners] ,  donnees['y'][indices_inliners], test_size=1/5, random_state=42)\n",
        "  sigma =  mean_criterion_method(donnees['X'][indices_inliners])\n",
        "  obs, features = X_train.shape\n",
        "  train_obs.append(obs)\n",
        "  debut = time.time()\n",
        "  clf = OneClassSVM(gamma= sigma, max_iter = 1000).fit(X_train)\n",
        "  y_pred = clf.predict(X)\n",
        "  X_test_  = np.vstack((X_test,  X_transformed[indices_outliners]))\n",
        "  y_test_ = np.vstack((y_test,  donnees['y'][indices_outliners]))\n",
        "  fin = time.time()\n",
        "  times.append(fin - debut)\n",
        "  score = roc_auc_score(y_test_,  clf.predict(X_test_))\n",
        "  roc_aux_scores.append(score)\n",
        "  i+=1\n",
        "data = {'dataset ': data_sets,\n",
        "        'sigma': sigmas,\n",
        "        '#train obs': train_obs ,\n",
        "        'nb_features ' : nb_features ,\n",
        "        'AUROC' : roc_aux_scores,\n",
        "        'time' : times\n",
        "         }\n",
        "\n",
        "df_ocsvm = pd.DataFrame(data)"
      ]
    },
    {
      "cell_type": "markdown",
      "metadata": {
        "id": "gu4WHuvzkaU4"
      },
      "source": [
        "## Auto-encoder OC-SVM"
      ]
    },
    {
      "cell_type": "code",
      "execution_count": null,
      "metadata": {
        "colab": {
          "base_uri": "https://localhost:8080/"
        },
        "id": "uD2Mhggu7-eY",
        "outputId": "046afb39-f9f4-4731-f571-f6a38a0ae59a"
      },
      "outputs": [
        {
          "name": "stderr",
          "output_type": "stream",
          "text": [
            "WARNING:tensorflow:From /usr/local/lib/python3.10/dist-packages/tensorflow/python/compat/v2_compat.py:108: disable_resource_variables (from tensorflow.python.ops.variable_scope) is deprecated and will be removed in a future version.\n",
            "Instructions for updating:\n",
            "non-resource variables are not supported in the long term\n"
          ]
        }
      ],
      "source": [
        "import tensorflow.compat.v1 as tf\n",
        "tf.disable_v2_behavior()"
      ]
    },
    {
      "cell_type": "code",
      "execution_count": null,
      "metadata": {
        "id": "jD30Iby6BedD"
      },
      "outputs": [],
      "source": [
        "tf.set_random_seed(2018)\n",
        "\n",
        "\n",
        "class AEOneClassSVM(object):\n",
        "\n",
        "    def __init__(self, input_tensor, batch_size, name, autoencoder_layers, nu, alpha=1.0, sigma=1.0,\n",
        "                 kernel_approx_features=1000, convolutional=False,\n",
        "                 autoencoder_activation='linear',\n",
        "                 ae_op=tf.train.AdamOptimizer(1e-2),\n",
        "                 full_op=tf.train.AdamOptimizer(1e-2), svm_op=tf.train.AdamOptimizer(1e-4), seed=2018):\n",
        "        self.input_tensor = input_tensor\n",
        "        self.batch_size = batch_size\n",
        "        self.name = name\n",
        "        tf.set_random_seed(seed)\n",
        "        self.seed = seed\n",
        "\n",
        "        self.autoencoder_scope = '{}_autoencoder'.format(self.name)\n",
        "        self.svm_scope = '{}_svm'.format(self.name)\n",
        "        self.feature_analyser_scope = '{}_feature_analyser'.format(self.name)\n",
        "        self.drop_rate = tf.placeholder_with_default(0.0, shape=())\n",
        "\n",
        "        if autoencoder_activation == 'linear':\n",
        "            self.autoencoder_activation = lambda x: tf.add(x, 0.0)\n",
        "        elif autoencoder_activation == 'sigmoid':\n",
        "            self.autoencoder_activation = lambda x: tf.sigmoid(x)\n",
        "        elif autoencoder_activation == 'tanh':\n",
        "            self.autoencoder_activation = lambda x: tf.tanh(x)\n",
        "        elif autoencoder_activation == 'relu':\n",
        "            self.autoencoder_activation = lambda x: tf.nn.relu(x)\n",
        "        else:\n",
        "            raise Exception()\n",
        "\n",
        "        if convolutional:\n",
        "            self.encoded, self.decoded = self._create_cae()\n",
        "            self.bottleneck_size = self.encoded.get_shape().as_list()[1]\n",
        "            self.reconstruction_loss = tf.reduce_mean(tf.pow(self.decoded - self.input_tensor, 2))\n",
        "        else:\n",
        "            if autoencoder_layers is not None:\n",
        "                self.bottleneck_size = autoencoder_layers[-1]\n",
        "                self.encoded = self._create_encoder(self.input_tensor, autoencoder_layers)\n",
        "                self.decoded = self._create_decoder(autoencoder_layers[::-1], self.input_tensor)\n",
        "                self.reconstruction_loss = tf.reduce_mean(tf.pow(self.decoded - self.input_tensor, 2))\n",
        "            else:\n",
        "                self.encoded = input_tensor\n",
        "                self.bottleneck_size = input_tensor.get_shape().as_list()[1]\n",
        "                self.reconstruction_loss = 0\n",
        "\n",
        "        self.alpha = alpha\n",
        "        self.sigma = sigma\n",
        "        self.nu = nu\n",
        "        self.kernel_approx_features = kernel_approx_features\n",
        "        (self.output, self.svm_loss, self.svm_weights,\n",
        "         self.svm_rho, self.margin, self.rff_x) = self._create_ocsvm()\n",
        "\n",
        "        self.gradient = tf.gradients(self.margin, self.input_tensor, name='gradient')\n",
        "        self.input_x_gradient = tf.multiply(self.gradient, self.input_tensor, name='input_x_gradient')\n",
        "        self.gradient_percent = tf.divide(self.input_x_gradient, tf.reduce_sum(self.input_x_gradient),\n",
        "                                          name='gradient_percent')\n",
        "\n",
        "        self.loss = self.alpha * self.reconstruction_loss + self.svm_loss\n",
        "        full_vars = tf.get_collection(tf.GraphKeys.TRAINABLE_VARIABLES, '{}|{}'.format(self.autoencoder_scope,\n",
        "                                                                                       self.svm_scope))\n",
        "        self.full_optimizer = full_op.minimize(self.loss, var_list=full_vars)\n",
        "\n",
        "        if self.reconstruction_loss != 0:\n",
        "            self.ae_optimizer = ae_op.minimize(\n",
        "                self.reconstruction_loss, var_list=tf.get_collection(tf.GraphKeys.TRAINABLE_VARIABLES,\n",
        "                                                                     self.autoencoder_scope))\n",
        "        self.svm_optimizer = svm_op.minimize(\n",
        "            self.svm_loss, var_list=tf.get_collection(tf.GraphKeys.TRAINABLE_VARIABLES, self.svm_scope))\n",
        "\n",
        "    def fit(self, sess, train_data, epochs_1, epochs_2, input_tensor=None, shuffle=False, verbose=False,\n",
        "            validation_data=None, validation_label=None):\n",
        "        input_tensor = input_tensor if input_tensor is not None else self.input_tensor\n",
        "        batches = int(len(train_data) / self.batch_size)\n",
        "\n",
        "        data = train_data\n",
        "\n",
        "        print('Combined train')\n",
        "        for i in range(epochs_1):\n",
        "            if shuffle:\n",
        "                data = sk_shuffle(train_data, random_state=self.seed)\n",
        "            for b in range(batches):\n",
        "                batch_data = data[b * self.batch_size:(b + 1) * self.batch_size]\n",
        "                sess.run([self.full_optimizer, self.loss], feed_dict={input_tensor: batch_data, self.drop_rate: 0.5})\n",
        "            epoch_loss = sess.run(self.loss, feed_dict={input_tensor: train_data}) / len(train_data)\n",
        "            epoch_loss_ae = sess.run(self.reconstruction_loss, feed_dict={input_tensor: train_data}) / len(train_data)\n",
        "            epoch_loss_svm = sess.run(self.svm_loss, feed_dict={input_tensor: train_data}) / len(train_data)\n",
        "            if verbose:\n",
        "                predictions = self.predict(sess, validation_data)\n",
        "                print('Epoch:', i + 1, 'Loss:', epoch_loss, '(', epoch_loss_ae, 'x', self.alpha, '+', epoch_loss_svm, ')',\n",
        "                      'AUROC:', roc_auc_score(-validation_label, -predictions),\n",
        "                      'AUPRC:', average_precision_score(-validation_label, -predictions))\n",
        "            else:\n",
        "                print('.', end='')\n",
        "\n",
        "        print('SVM train')\n",
        "        for i in range(epochs_2):\n",
        "            if shuffle:\n",
        "                data = sk_shuffle(train_data, random_state=self.seed)\n",
        "            for b in range(batches):\n",
        "                batch_data = data[b * self.batch_size:(b + 1) * self.batch_size]\n",
        "                sess.run([self.svm_optimizer, self.svm_loss], feed_dict={input_tensor: batch_data})\n",
        "            epoch_loss = sess.run(self.loss, feed_dict={input_tensor: train_data}) / len(train_data)\n",
        "            epoch_loss_ae = sess.run(self.reconstruction_loss, feed_dict={input_tensor: train_data}) / len(train_data)\n",
        "            epoch_loss_svm = sess.run(self.svm_loss, feed_dict={input_tensor: train_data}) / len(train_data)\n",
        "            if verbose:\n",
        "                predictions = self.predict(sess, validation_data)\n",
        "                print('Epoch:', i + 1, 'Loss:', epoch_loss, '(', epoch_loss_ae, 'x', self.alpha, '+', epoch_loss_svm, ')',\n",
        "                      'AUROC:', roc_auc_score(-validation_label, -predictions),\n",
        "                      'AUPRC:', average_precision_score(-validation_label, -predictions))\n",
        "            else:\n",
        "                print('.', end='')\n",
        "\n",
        "\n",
        "    def fit_ae(self, sess, train_data, epochs, input_tensor=None, shuffle=False, verbose=False):\n",
        "        input_tensor = input_tensor if input_tensor is not None else self.input_tensor\n",
        "        batches = int(len(train_data) / self.batch_size)\n",
        "\n",
        "        data = train_data\n",
        "\n",
        "        print('Autoencoder train')\n",
        "        for i in range(epochs):\n",
        "            if shuffle:\n",
        "                data = sk_shuffle(train_data, random_state=self.seed)\n",
        "            for b in range(batches):\n",
        "                batch_data = data[b * self.batch_size:(b + 1) * self.batch_size]\n",
        "                sess.run([self.ae_optimizer, self.reconstruction_loss], feed_dict={input_tensor: batch_data, self.drop_rate: 0.5})\n",
        "            if verbose:\n",
        "                epoch_loss = sess.run(self.reconstruction_loss, feed_dict={input_tensor: train_data}) / len(train_data)\n",
        "                print('Epoch:', i + 1, 'Loss:', epoch_loss)\n",
        "            else:\n",
        "                print('.', end='')\n",
        "\n",
        "    def fit_svm(self, sess, train_data, epochs, input_tensor=None, shuffle=False,\n",
        "                verbose=False, validation_data=None, validation_label=None):\n",
        "        input_tensor = input_tensor if input_tensor is not None else self.input_tensor\n",
        "        batches = int(len(train_data) / self.batch_size)\n",
        "\n",
        "        data = train_data\n",
        "\n",
        "        print('SVM train')\n",
        "        for i in range(epochs):\n",
        "            if shuffle:\n",
        "                data = sk_shuffle(train_data, random_state=self.seed)\n",
        "            for b in range(batches):\n",
        "                batch_data = data[b * self.batch_size:(b + 1) * self.batch_size]\n",
        "                sess.run([self.svm_optimizer, self.svm_loss], feed_dict={input_tensor: batch_data})\n",
        "            epoch_loss = sess.run(self.loss, feed_dict={input_tensor: train_data}) / len(train_data)\n",
        "            epoch_loss_svm = sess.run(self.svm_loss, feed_dict={input_tensor: train_data}) / len(train_data)\n",
        "            if verbose:\n",
        "                predictions = sess.run(self.output, feed_dict={input_tensor: validation_data})\n",
        "                print('Epoch:', i + 1, 'Loss:', epoch_loss_svm,\n",
        "                      'AUROC:', roc_auc_score(validation_label, predictions),\n",
        "                      'AUPRC:', average_precision_score(-validation_label, -predictions)\n",
        "                     )\n",
        "\n",
        "    def predict(self, sess, data):\n",
        "        pred = sess.run(self.output, feed_dict={self.input_tensor: data}).T[0]\n",
        "\n",
        "        return np.array([p if p != 0 else 1 for p in pred]).T\n",
        "\n",
        "    def decision_function(self, sess, data):\n",
        "        return sess.run(self.margin, feed_dict={self.input_tensor: data})\n",
        "\n",
        "    def encode(self, sess, data):\n",
        "        return sess.run(self.encoded, feed_dict={self.input_tensor: data})\n",
        "\n",
        "    def encode_rff(self, sess, data):\n",
        "        return sess.run(self.rff_x, feed_dict={self.input_tensor: data})\n",
        "\n",
        "    def gradient(self, sess, data):\n",
        "        return sess.run(self.gradient, feed_dict={self.input_tensor: data})\n",
        "\n",
        "    def _create_encoder(self, x, hidden_nums):\n",
        "        with tf.variable_scope(self.autoencoder_scope):\n",
        "            layers = [None]*len(hidden_nums)\n",
        "\n",
        "            init_bound = 4*np.sqrt(6. / (x.get_shape().as_list()[1] + hidden_nums[0]))\n",
        "            w0 = tf.Variable(tf.random_uniform([x.get_shape().as_list()[1], hidden_nums[0]], -init_bound, init_bound))\n",
        "            b0 = tf.Variable(tf.random_uniform([hidden_nums[0]], -0.1, 0.1))\n",
        "            layers[0] = self.autoencoder_activation(tf.add(tf.matmul(x, w0), b0))\n",
        "\n",
        "            if len(layers) > 1:\n",
        "                for i in range(1, len(layers)):\n",
        "                    init_bound = 4 * np.sqrt(6. / (hidden_nums[i-1] + hidden_nums[i]))\n",
        "                    w = tf.Variable(tf.random_uniform([hidden_nums[i-1], hidden_nums[i]], -init_bound, init_bound))\n",
        "                    b = tf.Variable(tf.random_uniform([hidden_nums[i]], -0.1, 0.1))\n",
        "                    layers[i] = tf.convert_to_tensor(self.autoencoder_activation(tf.add(tf.matmul(layers[i-1], w), b)))\n",
        "\n",
        "        return layers[-1]\n",
        "\n",
        "    def _create_decoder(self, hidden_nums, ae_input):\n",
        "        with tf.variable_scope(self.autoencoder_scope):\n",
        "            layers = [None] * len(hidden_nums)\n",
        "\n",
        "            if len(layers) > 1:\n",
        "                init_bound = 4 * np.sqrt(6. / (hidden_nums[0] + hidden_nums[1]))\n",
        "                w0 = tf.Variable(tf.random_uniform([hidden_nums[0], hidden_nums[1]], -init_bound, init_bound))\n",
        "                b0 = tf.Variable(tf.random_uniform([hidden_nums[1]], -0.1, 0.1))\n",
        "                layers[0] = self.autoencoder_activation(tf.add(tf.matmul(self.encoded, w0), b0))\n",
        "\n",
        "                for i in range(1, len(hidden_nums) - 1):\n",
        "                    init_bound = 4 * np.sqrt(6. / (hidden_nums[i] + hidden_nums[i + 1]))\n",
        "                    w = tf.Variable(tf.random_uniform([hidden_nums[i], hidden_nums[i + 1]], -init_bound, init_bound))\n",
        "                    b = tf.Variable(tf.random_uniform([hidden_nums[i + 1]], -0.1, 0.1))\n",
        "                    layers[i] = self.autoencoder_activation(tf.add(tf.matmul(layers[i - 1], w), b))\n",
        "\n",
        "            output_dim = ae_input.get_shape().as_list()[1]\n",
        "            w_out = tf.Variable(tf.truncated_normal([hidden_nums[-1], output_dim]))\n",
        "            b_out = tf.Variable(tf.truncated_normal([output_dim]))\n",
        "            if len(layers) > 1:\n",
        "                layers[-1] = self.autoencoder_activation(tf.add(tf.matmul(layers[-2], w_out), b_out))\n",
        "            else:\n",
        "                layers[-1] = self.autoencoder_activation(tf.add(tf.matmul(self.encoded, w_out), b_out))\n",
        "\n",
        "        return layers[-1]\n",
        "\n",
        "    def _create_ocsvm(self):\n",
        "        with tf.variable_scope(self.svm_scope):\n",
        "            np.random.seed(self.seed)\n",
        "            omega_matrix_shape = [self.bottleneck_size, self.kernel_approx_features]\n",
        "\n",
        "            omega_matrix = tf.constant(\n",
        "                np.random.normal(\n",
        "                    scale=1.0 / self.sigma, size=omega_matrix_shape),\n",
        "                dtype=tf.float32)\n",
        "            omega_x = tf.matmul(self.encoded, omega_matrix)\n",
        "            cos_omega_x = tf.cos(omega_x)\n",
        "            sin_omega_x = tf.sin(omega_x)\n",
        "            x = tf.sqrt(1.0 / self.kernel_approx_features) * tf.concat([cos_omega_x, sin_omega_x], 1)\n",
        "\n",
        "            features = x.get_shape().as_list()[1]\n",
        "            w = tf.Variable(tf.truncated_normal([features, 1]))\n",
        "            rho = tf.Variable(0.0, tf.float32)\n",
        "\n",
        "            n_margin = tf.subtract(rho, tf.matmul(x, w), name='{}_margin'.format(self.name))\n",
        "\n",
        "            reg_loss = 0.5*tf.reduce_sum(tf.square(w))\n",
        "            hinge_loss = tf.reduce_mean(n_margin + tf.abs(n_margin))\n",
        "\n",
        "            total_loss = tf.subtract(reg_loss, rho) + tf.divide(hinge_loss, self.nu)\n",
        "            output = tf.sign(-n_margin, name='{}_output'.format(self.name))\n",
        "\n",
        "            return output, total_loss, w, rho, -n_margin, x\n",
        "\n",
        "\n",
        "\n",
        "\n",
        "\n",
        "def deconv2d(input, kshape, n_outputs, strides=[1, 1], activation=tf.nn.relu):\n",
        "    out = tf.contrib.layers.conv2d_transpose(input,\n",
        "                                             num_outputs= n_outputs,\n",
        "                                             kernel_size=kshape,\n",
        "                                             stride=strides,\n",
        "                                             padding='SAME',\n",
        "                                             #weights_initializer=tf.contrib.layers.xavier_initializer_conv2d(uniform=False),\n",
        "                                             #biases_initializer=tf.contrib.layers.xavier_initializer(uniform=False),\n",
        "                                             activation_fn=activation)\n",
        "    return out\n",
        "\n",
        "\n",
        "#   ---------------------------------\n",
        "def maxpool2d(x, kshape=[1, 2, 2, 1], strides=[1, 2, 2, 1]):\n",
        "    out = tf.nn.max_pool(x,\n",
        "                         ksize=kshape, #size of window\n",
        "                         strides=strides,\n",
        "                         padding='SAME')\n",
        "    return out\n",
        "\n",
        "\n"
      ]
    },
    {
      "cell_type": "code",
      "execution_count": null,
      "metadata": {
        "id": "Q3Jh9LQNQK2u"
      },
      "outputs": [],
      "source": [
        "from sklearn.datasets import fetch_covtype\n",
        "from sklearn.preprocessing import MinMaxScaler, LabelEncoder, OneHotEncoder\n",
        "from sklearn.utils import shuffle\n",
        "def load_dataset(data_set, random_state=1):\n",
        "\n",
        "\n",
        "    nom_fichier_mat = '/content/drive/MyDrive/IA326/project/' + data_set + '.mat'\n",
        "    donnees = scipy.io.loadmat(nom_fichier_mat)\n",
        "    x = MinMaxScaler().fit_transform(donnees['X'])\n",
        "    y = donnees['y']\n",
        "    y = np.array([1 if l == 0 else -1  for l in y])\n",
        "\n",
        "    normal = x[np.where(y == 1)]\n",
        "    anomalies = x[np.where(y == -1)]\n",
        "\n",
        "    x = np.concatenate((normal, anomalies), axis=0)\n",
        "    y = np.concatenate(([1]*len(normal), [-1]*len(anomalies)), axis=0)\n",
        "    x, y = shuffle(x, y, random_state=random_state)\n",
        "\n",
        "    normal = x[np.where(y == 1)]\n",
        "    test_normal = normal[int(len(normal)/2):]\n",
        "    normal = normal[:int(len(normal)/2)]\n",
        "\n",
        "    anomalies = x[np.where(y == -1)]\n",
        "    test_anomalies = anomalies[int(len(anomalies)/2):]\n",
        "    anomalies = anomalies[:int(len(anomalies)/2)]\n",
        "\n",
        "    x_train = np.concatenate((normal, anomalies), axis=0)\n",
        "    y_train = np.concatenate(([1]*len(normal), [-1]*len(anomalies)), axis=0)\n",
        "    x_train, y_train = shuffle(x_train, y_train, random_state=1)\n",
        "\n",
        "    x_test = np.concatenate((test_normal, test_anomalies), axis=0)\n",
        "    y_test = np.concatenate(([1]*len(test_normal), [-1]*len(test_anomalies)), axis=0)\n",
        "    x_test, y_test = shuffle(x_test, y_test, random_state=1)\n",
        "\n",
        "    return x_train, y_train, x_test, y_test"
      ]
    },
    {
      "cell_type": "code",
      "execution_count": null,
      "metadata": {
        "colab": {
          "base_uri": "https://localhost:8080/"
        },
        "id": "GkEgLywyUkZX",
        "outputId": "b3ad5831-8a7b-40ff-92e4-d825e68d589f"
      },
      "outputs": [
        {
          "name": "stdout",
          "output_type": "stream",
          "text": [
            "(286048,)\n"
          ]
        }
      ],
      "source": [
        " x_train, y_train, x_test, y_test = load_dataset('cover', random_state=1)"
      ]
    },
    {
      "cell_type": "code",
      "execution_count": null,
      "metadata": {
        "colab": {
          "base_uri": "https://localhost:8080/"
        },
        "id": "YxJMkGoWVX2k",
        "outputId": "85aab0e1-136e-4414-e32e-bdab6f1b01f7"
      },
      "outputs": [
        {
          "data": {
            "text/plain": [
              "(143025, 10)"
            ]
          },
          "execution_count": 18,
          "metadata": {},
          "output_type": "execute_result"
        }
      ],
      "source": [
        "x_test.shape"
      ]
    },
    {
      "cell_type": "code",
      "execution_count": null,
      "metadata": {
        "colab": {
          "background_save": true,
          "base_uri": "https://localhost:8080/"
        },
        "id": "0UTwyf5NQmkC",
        "outputId": "f7d37ea4-bad3-4e72-b967-1d1bf019163a"
      },
      "outputs": [
        {
          "name": "stdout",
          "output_type": "stream",
          "text": [
            "(143025, 10)\n",
            "Combined train\n",
            ".......SVM train\n",
            ".....Train time: 161.87735533714294\n",
            "(143025, 10)\n",
            "Test time: 4.336160898208618\n",
            "0.7426940494842496\n",
            "(5592, 6)\n",
            "Combined train\n",
            ".......SVM train\n",
            ".....Train time: 7.582283020019531\n",
            "(5592, 6)\n",
            "Test time: 0.22756123542785645\n",
            "0.5329760865278991\n",
            "(2902, 36)\n",
            "Combined train\n",
            ".......SVM train\n",
            ".....Train time: 2.9734573364257812\n",
            "(2902, 36)\n",
            "Test time: 0.13617897033691406\n",
            "0.6568291075443902\n"
          ]
        }
      ],
      "source": [
        "from pprint import pprint\n",
        "\n",
        "data_sets = ['cover', 'mammography', 'satimage-2']\n",
        "sigmas = []\n",
        "train_obs = []\n",
        "nb_features = []\n",
        "roc_aux_scores =[]\n",
        "times = []\n",
        "\n",
        "i = 0\n",
        "for data_set in data_sets :\n",
        "\n",
        "\n",
        "  X_train, X_test, y_train, y_test  = load_dataset(data_set, random_state=1)\n",
        "  print(X_train.shape)\n",
        "  sigma =  mean_criterion_method(X_train)\n",
        "  obs, features = X_train.shape\n",
        "  train_obs.append(obs)\n",
        "  nb_features.append(features)\n",
        "  debut = time.time()\n",
        "  nu = 0.3\n",
        "  alpha = 1e3\n",
        "  sigma = mean_criterion_method(X_train)\n",
        "  kernel_features = 1000\n",
        "  autoencoder_layers = [features, 32, 16]\n",
        "  batch_size = 1024\n",
        "  data_input = tf.placeholder(tf.float32, shape=[None, features])\n",
        "\n",
        "  ae1svm = AEOneClassSVM(data_input, batch_size, 'ae1svm', autoencoder_layers[1:], nu, alpha, sigma, kernel_features,\n",
        "                       autoencoder_activation='sigmoid', seed=4,\n",
        "                       full_op=tf.train.AdamOptimizer(1e-2),\n",
        "                       svm_op=tf.train.AdamOptimizer(1e-4))\n",
        "  with tf.Session() as sess:\n",
        "    sess.run(tf.global_variables_initializer())\n",
        "\n",
        "    # Autoencoder-OneclassSVM\n",
        "    t0 = time.time()\n",
        "    ae1svm.fit(sess, X_train, epochs_1=10, epochs_2=5)\n",
        "    print('Train time:', time.time() - t0)\n",
        "\n",
        "    t0 = time.time()\n",
        "    print(X_tes.shape)\n",
        "    out_y = ae1svm.predict(sess, X_test)\n",
        "    print('Test time:', time.time() - t0)\n",
        "\n",
        "    pprint(metrics(y_test, out_y))\n",
        "    score = roc_auc_score(y_test,  out_y)\n",
        "    roc_aux_scores.append(score)\n",
        "\n",
        "  fin = time.time()\n",
        "  times.append(fin - debut)\n",
        "\n",
        "  i+=1\n",
        "data = {'dataset ': data_sets,\n",
        "        'sigma': sigmas,\n",
        "        '#train obs': train_obs ,\n",
        "        'nb_features ' : nb_features ,\n",
        "        'AUROC' : roc_aux_scores,\n",
        "        'time' : times\n",
        "         }\n",
        "\n",
        "df_ae = pd.DataFrame(data)"
      ]
    },
    {
      "cell_type": "code",
      "execution_count": null,
      "metadata": {
        "colab": {
          "base_uri": "https://localhost:8080/"
        },
        "id": "Ol__FYSUa5DG",
        "outputId": "dc7c1295-3452-49f1-eb2e-18edc04802b2"
      },
      "outputs": [
        {
          "name": "stdout",
          "output_type": "stream",
          "text": [
            "(286048, 10)\n",
            "(286048,)\n",
            "Anomalies ratio: 0.959985456884557 %\n"
          ]
        }
      ],
      "source": [
        "from collections import Counter\n",
        "from pprint import pprint\n",
        "tf.set_random_seed(2018)\n",
        "\n",
        "x_train, y_train, x_test, y_test = forestcover(random_state=1)\n",
        "\n",
        "counter = Counter(y_train)\n",
        "print('Anomalies ratio:', 100*counter[-1]/(counter[1]+counter[-1]), '%')"
      ]
    },
    {
      "cell_type": "code",
      "execution_count": null,
      "metadata": {
        "colab": {
          "base_uri": "https://localhost:8080/"
        },
        "id": "5DBJ38Hbdhk-",
        "outputId": "7e266feb-6d6c-4a20-f3da-a4194f81603e"
      },
      "outputs": [
        {
          "name": "stdout",
          "output_type": "stream",
          "text": [
            "Anomalies ratio: 0.959985456884557 %\n"
          ]
        }
      ],
      "source": [
        "counter = Counter(y_train)\n",
        "print('Anomalies ratio:', 100*counter[-1]/(counter[1]+counter[-1]), '%')"
      ]
    },
    {
      "cell_type": "code",
      "execution_count": null,
      "metadata": {
        "id": "epzeBQBwbLga"
      },
      "outputs": [],
      "source": [
        "autoencoder_layers = [10, 32, 16]\n",
        "batch_size = 1024\n",
        "\n",
        "nu = 0.3\n",
        "alpha = 1e3\n",
        "sigma = mean_criterion_method(x_train)\n",
        "kernel_features = 1000\n",
        "\n",
        "data_input = tf.placeholder(tf.float32, shape=[None, 10])\n",
        "\n",
        "ae1svm = AEOneClassSVM(data_input, batch_size, 'ae1svm', autoencoder_layers[1:], nu, alpha, sigma, kernel_features,\n",
        "                       autoencoder_activation='sigmoid', seed=4,\n",
        "                       full_op=tf.train.AdamOptimizer(1e-2),\n",
        "                       svm_op=tf.train.AdamOptimizer(1e-4))\n",
        "\n",
        "ae_only = AEOneClassSVM(data_input, batch_size, 'ae_only', autoencoder_layers[1:], nu, alpha, sigma, kernel_features,\n",
        "                        autoencoder_activation='sigmoid', ae_op=tf.train.AdamOptimizer(1e-2))"
      ]
    },
    {
      "cell_type": "code",
      "execution_count": null,
      "metadata": {
        "colab": {
          "base_uri": "https://localhost:8080/"
        },
        "id": "e4Trk70VbNcE",
        "outputId": "a2ce7968-d4f6-406e-8ca3-eee7e7492547"
      },
      "outputs": [
        {
          "name": "stdout",
          "output_type": "stream",
          "text": [
            "Combined train\n",
            "..........SVM train\n",
            ".....Train time: 106.83877611160278\n",
            "Test time: 2.4190311431884766\n",
            "{'AUPRC': 0.022923401654179665,\n",
            " 'AUROC': 0.6933281637916967,\n",
            " 'Confusion matrix': array([[   727,    647],\n",
            "       [ 20179, 121472]]),\n",
            " 'F1': 0.06526032315978456,\n",
            " 'Precision': 0.03477470582607864,\n",
            " 'Recall': 0.5291120815138283}\n"
          ]
        }
      ],
      "source": [
        "with tf.Session() as sess:\n",
        "    sess.run(tf.global_variables_initializer())\n",
        "\n",
        "    # Autoencoder-OneclassSVM\n",
        "    t0 = time.time()\n",
        "    ae1svm.fit(sess, x_train, epochs_1=10, epochs_2=5)\n",
        "    print('Train time:', time.time() - t0)\n",
        "\n",
        "    t0 = time.time()\n",
        "    out_y = ae1svm.predict(sess, x_test)\n",
        "    print('Test time:', time.time() - t0)\n",
        "\n",
        "    pprint(metrics(y_test, out_y))"
      ]
    },
    {
      "cell_type": "code",
      "execution_count": null,
      "metadata": {
        "id": "xNmQfck2Bod1"
      },
      "outputs": [],
      "source": [
        "autoencoder_layers = [54, 32, 16]\n",
        "batch_size = 1024\n",
        "data_set = 'cover'\n",
        "\n",
        "nom_fichier_mat = '/content/drive/MyDrive/IA326/project/' + data_set + '.mat'\n",
        "donnees = scipy.io.loadmat(nom_fichier_mat)\n",
        "nu = 0.3\n",
        "alpha = 1e3\n",
        "sigma = 3\n",
        "#mean_criterion_method(donnees['X'])\n",
        "kernel_features = 200\n",
        "\n",
        "data_input = tf.placeholder(tf.float32, shape=[None, 54])\n",
        "\n",
        "ae1svm = AEOneClassSVM(data_input, batch_size, 'ae1svm', autoencoder_layers[1:], nu, alpha, sigma, kernel_features,\n",
        "                       autoencoder_activation='sigmoid', seed=4,\n",
        "                       full_op=tf.train.AdamOptimizer(1e-2),\n",
        "                       svm_op=tf.train.AdamOptimizer(1e-4))"
      ]
    },
    {
      "cell_type": "code",
      "execution_count": null,
      "metadata": {
        "id": "g3eYmKSyHooX"
      },
      "outputs": [],
      "source": [
        "from sklearn.utils import shuffle\n",
        "def data_load(data_set, random_state=1):\n",
        "\n",
        "\n",
        "    x = donnees['X']\n",
        "    y = donnees['y']\n",
        "    indices_inliners = np.where(y == 0)[0]\n",
        "    indices_outliners = np.where(y == 1)[0]\n",
        "    normal = x[indices_inliners]\n",
        "    anomalies = x[indices_outliners]\n",
        "    print(normal.shape)\n",
        "    x = np.vstack((normal, anomalies))\n",
        "    print(2)\n",
        "    y  = np.concatenate(([1]*len(normal), [-1]*len(anomalies)), axis=0)\n",
        "    print(3)\n",
        "    x, y = shuffle(x, y, random_state=random_state)\n",
        "\n",
        "    normal = x[np.where(y == 1)]\n",
        "    test_normal = normal[int(len(normal)/2):]\n",
        "    normal = normal[:int(len(normal)/2)]\n",
        "\n",
        "    anomalies = x[np.where(y == -1)]\n",
        "    test_anomalies = anomalies[int(len(anomalies)/2):]\n",
        "    anomalies = anomalies[:int(len(anomalies)/2)]\n",
        "\n",
        "    x_train = np.vstack((normal, anomalies))\n",
        "    y_train = np.concatenate(([1]*len(normal), [-1]*len(anomalies)), axis = 0)\n",
        "    x_train, y_train = shuffle(x_train, y_train, random_state=1)\n",
        "\n",
        "    x_test = np.vstack((test_normal, test_anomalies))\n",
        "    y_test = np.concatenate(([1]*len(test_normal), [-1]*len(test_anomalies)), axis = 0)\n",
        "    x_test, y_test = shuffle(x_test, y_test, random_state=1)\n",
        "\n",
        "    return x_train, y_train, x_test, y_test"
      ]
    },
    {
      "cell_type": "code",
      "execution_count": null,
      "metadata": {
        "colab": {
          "base_uri": "https://localhost:8080/"
        },
        "id": "uXHoB15DN-jo",
        "outputId": "d8ce299f-7510-48d0-f33a-42ea5d6d5781"
      },
      "outputs": [
        {
          "name": "stderr",
          "output_type": "stream",
          "text": [
            "<ipython-input-98-ad27ce8843b9>:3: DeprecationWarning: NumPy will stop allowing conversion of out-of-bound Python integers to integer arrays.  The conversion of -1 to uint8 will fail in the future.\n",
            "For the old behavior, usually:\n",
            "    np.array(value).astype(dtype)\n",
            "will give the desired result (the cast overflows).\n",
            "  y[indices_outliners] = -1\n"
          ]
        }
      ],
      "source": [
        "y = donnees['y']\n",
        "y[indices_inliners] = 1\n",
        "y[indices_outliners] = -1"
      ]
    },
    {
      "cell_type": "code",
      "execution_count": null,
      "metadata": {
        "colab": {
          "base_uri": "https://localhost:8080/"
        },
        "id": "ulzPK7WIOU21",
        "outputId": "24970106-b7ea-4d24-a2b2-4abf32d8149a"
      },
      "outputs": [
        {
          "data": {
            "text/plain": [
              "array([[1],\n",
              "       [1],\n",
              "       [1],\n",
              "       ...,\n",
              "       [1],\n",
              "       [1],\n",
              "       [1]], dtype=uint8)"
            ]
          },
          "execution_count": 99,
          "metadata": {},
          "output_type": "execute_result"
        }
      ],
      "source": [
        "y"
      ]
    },
    {
      "cell_type": "code",
      "execution_count": null,
      "metadata": {
        "colab": {
          "base_uri": "https://localhost:8080/"
        },
        "id": "LBakoCeJBqrc",
        "outputId": "cb10b2ab-560b-49af-815a-13e89f3f1779"
      },
      "outputs": [
        {
          "name": "stdout",
          "output_type": "stream",
          "text": [
            "(143023, 54)\n",
            "(143025, 54)\n",
            "Combined train\n",
            ".......SVM train\n",
            "Train time: 15.85056734085083\n",
            "Test time: 0.8240368366241455\n",
            "{'AUPRC': 0.014770963022783523,\n",
            " 'AUROC': 0.6042925276185437,\n",
            " 'Confusion matrix': array([[   461,    913],\n",
            "       [ 17980, 123671]]),\n",
            " 'F1': 0.04653040625788544,\n",
            " 'Precision': 0.024998644325145057,\n",
            " 'Recall': 0.33551673944687044}\n"
          ]
        }
      ],
      "source": [
        "import time\n",
        "import scipy.io\n",
        "from sklearn.model_selection import train_test_split\n",
        "from sklearn.metrics import roc_auc_score\n",
        "with tf.Session() as sess:\n",
        "    sess.run(tf.global_variables_initializer())\n",
        "\n",
        "    # Autoencoder-OneclassSVM\n",
        "    data_set = 'cover'\n",
        "    t0 = time.time()\n",
        "    nom_fichier_mat = '/content/drive/MyDrive/IA326/project/' + data_set + '.mat'\n",
        "    donnees = scipy.io.loadmat(nom_fichier_mat)\n",
        "    indices_inliners = np.where(donnees['y'] == 0)[0]\n",
        "    indices_outliners = np.where(donnees['y'] == 1)[0]\n",
        "\n",
        "    X_train, X_test, y_train, y_test  = x_train, y_train, x_test, y_test\n",
        "    print(X_train.shape)\n",
        "    print(X_test.shape)\n",
        "    ae1svm.fit(sess, x_train, epochs_1=7, epochs_2=0)\n",
        "    print('Train time:', time.time() - t0)\n",
        "\n",
        "    t0 = time.time()\n",
        "    out_y = ae1svm.predict(sess, x_test)\n",
        "    print('Test time:', time.time() - t0)\n",
        "    pprint(metrics(y_test, out_y))"
      ]
    },
    {
      "cell_type": "code",
      "execution_count": null,
      "metadata": {
        "id": "lreH4SYKZi9Z"
      },
      "outputs": [],
      "source": []
    },
    {
      "cell_type": "code",
      "execution_count": null,
      "metadata": {
        "colab": {
          "base_uri": "https://localhost:8080/"
        },
        "id": "1AAz358LY8Qn",
        "outputId": "08cc0a4e-aeea-4501-e84d-980e9bc55fc7"
      },
      "outputs": [
        {
          "data": {
            "text/plain": [
              "1374"
            ]
          },
          "execution_count": 114,
          "metadata": {},
          "output_type": "execute_result"
        }
      ],
      "source": [
        " len(np.where(y_test == -1)[0])"
      ]
    },
    {
      "cell_type": "code",
      "execution_count": null,
      "metadata": {
        "colab": {
          "base_uri": "https://localhost:8080/"
        },
        "id": "7BdE0oSYZJ8L",
        "outputId": "ea740b54-889b-4b9b-b154-7021fc4a83a9"
      },
      "outputs": [
        {
          "data": {
            "text/plain": [
              "2747"
            ]
          },
          "execution_count": 115,
          "metadata": {},
          "output_type": "execute_result"
        }
      ],
      "source": [
        "len(indices_outliners)"
      ]
    },
    {
      "cell_type": "code",
      "execution_count": null,
      "metadata": {
        "id": "617LyL6ZTXlF"
      },
      "outputs": [],
      "source": [
        "from sklearn.datasets import fetch_covtype\n",
        "from sklearn.preprocessing import MinMaxScaler, LabelEncoder, OneHotEncoder\n",
        "from sklearn.utils import shuffle\n",
        "def forestcover(data_set, random_state=1):\n",
        "\n",
        "\n",
        "    x = donnees['X']\n",
        "    print(x.shape)\n",
        "    x = MinMaxScaler().fit_transform(x)\n",
        "    y = donnees['y']\n",
        "    y = np.array([1 if l == 0 else -1  for l in y])\n",
        "    print(y.shape)\n",
        "    normal = x[np.where(y == 1)]\n",
        "    anomalies = x[np.where(y == -1)]\n",
        "\n",
        "    x = np.concatenate((normal, anomalies), axis=0)\n",
        "    y = np.concatenate(([1]*len(normal), [-1]*len(anomalies)), axis=0)\n",
        "    x, y = shuffle(x, y, random_state=random_state)\n",
        "\n",
        "    normal = x[np.where(y == 1)]\n",
        "    test_normal = normal[int(len(normal)/2):]\n",
        "    normal = normal[:int(len(normal)/2)]\n",
        "\n",
        "    anomalies = x[np.where(y == -1)]\n",
        "    test_anomalies = anomalies[int(len(anomalies)/2):]\n",
        "    anomalies = anomalies[:int(len(anomalies)/2)]\n",
        "\n",
        "    x_train = np.concatenate((normal, anomalies), axis=0)\n",
        "    y_train = np.concatenate(([1]*len(normal), [-1]*len(anomalies)), axis=0)\n",
        "    x_train, y_train = shuffle(x_train, y_train, random_state=1)\n",
        "\n",
        "    x_test = np.concatenate((test_normal, test_anomalies), axis=0)\n",
        "    y_test = np.concatenate(([1]*len(test_normal), [-1]*len(test_anomalies)), axis=0)\n",
        "    x_test, y_test = shuffle(x_test, y_test, random_state=1)\n",
        "\n",
        "    return x_train, y_train, x_test, y_test"
      ]
    },
    {
      "cell_type": "code",
      "execution_count": null,
      "metadata": {
        "colab": {
          "base_uri": "https://localhost:8080/",
          "height": 263
        },
        "id": "tqE6I0YABhrU",
        "outputId": "b439f0ff-7515-4d49-8d6d-c3a4c0d0a49a"
      },
      "outputs": [
        {
          "ename": "NameError",
          "evalue": "name 'donnees' is not defined",
          "output_type": "error",
          "traceback": [
            "\u001b[0;31m---------------------------------------------------------------------------\u001b[0m",
            "\u001b[0;31mNameError\u001b[0m                                 Traceback (most recent call last)",
            "\u001b[0;32m<ipython-input-12-f8c2af17fec9>\u001b[0m in \u001b[0;36m<cell line: 1>\u001b[0;34m()\u001b[0m\n\u001b[0;32m----> 1\u001b[0;31m \u001b[0mx_train\u001b[0m\u001b[0;34m,\u001b[0m \u001b[0my_train\u001b[0m\u001b[0;34m,\u001b[0m \u001b[0mx_test\u001b[0m\u001b[0;34m,\u001b[0m \u001b[0my_test\u001b[0m \u001b[0;34m=\u001b[0m \u001b[0mforestcover\u001b[0m\u001b[0;34m(\u001b[0m\u001b[0;34m'cover'\u001b[0m\u001b[0;34m,\u001b[0m \u001b[0mrandom_state\u001b[0m\u001b[0;34m=\u001b[0m\u001b[0;36m1\u001b[0m\u001b[0;34m)\u001b[0m\u001b[0;34m\u001b[0m\u001b[0;34m\u001b[0m\u001b[0m\n\u001b[0m",
            "\u001b[0;32m<ipython-input-10-f6a024e7ea7b>\u001b[0m in \u001b[0;36mforestcover\u001b[0;34m(data_set, random_state)\u001b[0m\n\u001b[1;32m      5\u001b[0m \u001b[0;34m\u001b[0m\u001b[0m\n\u001b[1;32m      6\u001b[0m \u001b[0;34m\u001b[0m\u001b[0m\n\u001b[0;32m----> 7\u001b[0;31m     \u001b[0mx\u001b[0m \u001b[0;34m=\u001b[0m \u001b[0mdonnees\u001b[0m\u001b[0;34m[\u001b[0m\u001b[0;34m'X'\u001b[0m\u001b[0;34m]\u001b[0m\u001b[0;34m\u001b[0m\u001b[0;34m\u001b[0m\u001b[0m\n\u001b[0m\u001b[1;32m      8\u001b[0m     \u001b[0mprint\u001b[0m\u001b[0;34m(\u001b[0m\u001b[0mx\u001b[0m\u001b[0;34m.\u001b[0m\u001b[0mshape\u001b[0m\u001b[0;34m)\u001b[0m\u001b[0;34m\u001b[0m\u001b[0;34m\u001b[0m\u001b[0m\n\u001b[1;32m      9\u001b[0m     \u001b[0mx\u001b[0m \u001b[0;34m=\u001b[0m \u001b[0mMinMaxScaler\u001b[0m\u001b[0;34m(\u001b[0m\u001b[0;34m)\u001b[0m\u001b[0;34m.\u001b[0m\u001b[0mfit_transform\u001b[0m\u001b[0;34m(\u001b[0m\u001b[0mx\u001b[0m\u001b[0;34m)\u001b[0m\u001b[0;34m\u001b[0m\u001b[0;34m\u001b[0m\u001b[0m\n",
            "\u001b[0;31mNameError\u001b[0m: name 'donnees' is not defined"
          ]
        }
      ],
      "source": [
        " x_train, y_train, x_test, y_test = forestcover('cover', random_state=1)"
      ]
    },
    {
      "cell_type": "code",
      "execution_count": null,
      "metadata": {
        "colab": {
          "base_uri": "https://localhost:8080/"
        },
        "id": "HxIouOEJYYY3",
        "outputId": "72e8a2c7-2e51-4220-b4a8-636b15c8f35e"
      },
      "outputs": [
        {
          "data": {
            "text/plain": [
              "(143023, 54)"
            ]
          },
          "execution_count": 107,
          "metadata": {},
          "output_type": "execute_result"
        }
      ],
      "source": [
        "x_train.shape"
      ]
    },
    {
      "cell_type": "code",
      "execution_count": null,
      "metadata": {
        "colab": {
          "base_uri": "https://localhost:8080/",
          "height": 356
        },
        "id": "bKJbGy-Y784B",
        "outputId": "8a728b0c-b8f3-4de0-fc81-d7ca1f35d5b5"
      },
      "outputs": [
        {
          "ename": "ValueError",
          "evalue": "`tape` is required when a `Tensor` loss is passed. Received: loss=Tensor(\"add_2:0\", shape=(), dtype=float32), tape=None.",
          "output_type": "error",
          "traceback": [
            "\u001b[0;31m---------------------------------------------------------------------------\u001b[0m",
            "\u001b[0;31mValueError\u001b[0m                                Traceback (most recent call last)",
            "\u001b[0;32m<ipython-input-32-fabe7e5967c4>\u001b[0m in \u001b[0;36m<cell line: 15>\u001b[0;34m()\u001b[0m\n\u001b[1;32m     13\u001b[0m \u001b[0mdata_input\u001b[0m \u001b[0;34m=\u001b[0m \u001b[0mtf\u001b[0m\u001b[0;34m.\u001b[0m\u001b[0mcompat\u001b[0m\u001b[0;34m.\u001b[0m\u001b[0mv1\u001b[0m\u001b[0;34m.\u001b[0m\u001b[0mplaceholder\u001b[0m\u001b[0;34m(\u001b[0m\u001b[0mtf\u001b[0m\u001b[0;34m.\u001b[0m\u001b[0mfloat32\u001b[0m\u001b[0;34m,\u001b[0m \u001b[0mshape\u001b[0m\u001b[0;34m=\u001b[0m\u001b[0;34m[\u001b[0m\u001b[0;32mNone\u001b[0m\u001b[0;34m,\u001b[0m \u001b[0;36m54\u001b[0m\u001b[0;34m]\u001b[0m\u001b[0;34m)\u001b[0m\u001b[0;34m\u001b[0m\u001b[0;34m\u001b[0m\u001b[0m\n\u001b[1;32m     14\u001b[0m \u001b[0;34m\u001b[0m\u001b[0m\n\u001b[0;32m---> 15\u001b[0;31m ae1svm = AEOneClassSVM(data_input, batch_size, 'ae1svm', autoencoder_layers[1:], nu, alpha, sigma, kernel_features,\n\u001b[0m\u001b[1;32m     16\u001b[0m                        \u001b[0mautoencoder_activation\u001b[0m\u001b[0;34m=\u001b[0m\u001b[0;34m'sigmoid'\u001b[0m\u001b[0;34m,\u001b[0m \u001b[0mseed\u001b[0m\u001b[0;34m=\u001b[0m\u001b[0;36m4\u001b[0m\u001b[0;34m,\u001b[0m\u001b[0;34m\u001b[0m\u001b[0;34m\u001b[0m\u001b[0m\n\u001b[1;32m     17\u001b[0m                        \u001b[0mfull_op\u001b[0m\u001b[0;34m=\u001b[0m\u001b[0mtf\u001b[0m\u001b[0;34m.\u001b[0m\u001b[0moptimizers\u001b[0m\u001b[0;34m.\u001b[0m\u001b[0mAdam\u001b[0m\u001b[0;34m(\u001b[0m\u001b[0;36m1e-2\u001b[0m\u001b[0;34m)\u001b[0m\u001b[0;34m,\u001b[0m\u001b[0;34m\u001b[0m\u001b[0;34m\u001b[0m\u001b[0m\n",
            "\u001b[0;32m<ipython-input-31-38fdcf592e6f>\u001b[0m in \u001b[0;36m__init__\u001b[0;34m(self, input_tensor, batch_size, name, autoencoder_layers, nu, alpha, sigma, kernel_approx_features, convolutional, autoencoder_activation, ae_op, full_op, svm_op, seed)\u001b[0m\n\u001b[1;32m     80\u001b[0m         full_vars = tf.compat.v1.get_collection(tf.compat.v1.GraphKeys.TRAINABLE_VARIABLES, '{}|{}'.format(self.autoencoder_scope,\n\u001b[1;32m     81\u001b[0m                                                                                        self.svm_scope))\n\u001b[0;32m---> 82\u001b[0;31m         \u001b[0mself\u001b[0m\u001b[0;34m.\u001b[0m\u001b[0mfull_optimizer\u001b[0m \u001b[0;34m=\u001b[0m \u001b[0mfull_op\u001b[0m\u001b[0;34m.\u001b[0m\u001b[0mminimize\u001b[0m\u001b[0;34m(\u001b[0m\u001b[0mself\u001b[0m\u001b[0;34m.\u001b[0m\u001b[0mloss\u001b[0m\u001b[0;34m,\u001b[0m \u001b[0mvar_list\u001b[0m\u001b[0;34m=\u001b[0m\u001b[0mfull_vars\u001b[0m\u001b[0;34m)\u001b[0m\u001b[0;34m\u001b[0m\u001b[0;34m\u001b[0m\u001b[0m\n\u001b[0m\u001b[1;32m     83\u001b[0m \u001b[0;34m\u001b[0m\u001b[0m\n\u001b[1;32m     84\u001b[0m         \u001b[0;32mif\u001b[0m \u001b[0mself\u001b[0m\u001b[0;34m.\u001b[0m\u001b[0mreconstruction_loss\u001b[0m \u001b[0;34m!=\u001b[0m \u001b[0;36m0\u001b[0m\u001b[0;34m:\u001b[0m\u001b[0;34m\u001b[0m\u001b[0;34m\u001b[0m\u001b[0m\n",
            "\u001b[0;32m/usr/local/lib/python3.10/dist-packages/keras/src/optimizers/optimizer.py\u001b[0m in \u001b[0;36mminimize\u001b[0;34m(self, loss, var_list, tape)\u001b[0m\n\u001b[1;32m    541\u001b[0m           \u001b[0;32mNone\u001b[0m\u001b[0;34m\u001b[0m\u001b[0;34m\u001b[0m\u001b[0m\n\u001b[1;32m    542\u001b[0m         \"\"\"\n\u001b[0;32m--> 543\u001b[0;31m         \u001b[0mgrads_and_vars\u001b[0m \u001b[0;34m=\u001b[0m \u001b[0mself\u001b[0m\u001b[0;34m.\u001b[0m\u001b[0mcompute_gradients\u001b[0m\u001b[0;34m(\u001b[0m\u001b[0mloss\u001b[0m\u001b[0;34m,\u001b[0m \u001b[0mvar_list\u001b[0m\u001b[0;34m,\u001b[0m \u001b[0mtape\u001b[0m\u001b[0;34m)\u001b[0m\u001b[0;34m\u001b[0m\u001b[0;34m\u001b[0m\u001b[0m\n\u001b[0m\u001b[1;32m    544\u001b[0m         \u001b[0mself\u001b[0m\u001b[0;34m.\u001b[0m\u001b[0mapply_gradients\u001b[0m\u001b[0;34m(\u001b[0m\u001b[0mgrads_and_vars\u001b[0m\u001b[0;34m)\u001b[0m\u001b[0;34m\u001b[0m\u001b[0;34m\u001b[0m\u001b[0m\n\u001b[1;32m    545\u001b[0m \u001b[0;34m\u001b[0m\u001b[0m\n",
            "\u001b[0;32m/usr/local/lib/python3.10/dist-packages/keras/src/optimizers/optimizer.py\u001b[0m in \u001b[0;36mcompute_gradients\u001b[0;34m(self, loss, var_list, tape)\u001b[0m\n\u001b[1;32m    260\u001b[0m         \"\"\"\n\u001b[1;32m    261\u001b[0m         \u001b[0;32mif\u001b[0m \u001b[0;32mnot\u001b[0m \u001b[0mcallable\u001b[0m\u001b[0;34m(\u001b[0m\u001b[0mloss\u001b[0m\u001b[0;34m)\u001b[0m \u001b[0;32mand\u001b[0m \u001b[0mtape\u001b[0m \u001b[0;32mis\u001b[0m \u001b[0;32mNone\u001b[0m\u001b[0;34m:\u001b[0m\u001b[0;34m\u001b[0m\u001b[0;34m\u001b[0m\u001b[0m\n\u001b[0;32m--> 262\u001b[0;31m             raise ValueError(\n\u001b[0m\u001b[1;32m    263\u001b[0m                 \u001b[0;34m\"`tape` is required when a `Tensor` loss is passed. \"\u001b[0m\u001b[0;34m\u001b[0m\u001b[0;34m\u001b[0m\u001b[0m\n\u001b[1;32m    264\u001b[0m                 \u001b[0;34mf\"Received: loss={loss}, tape={tape}.\"\u001b[0m\u001b[0;34m\u001b[0m\u001b[0;34m\u001b[0m\u001b[0m\n",
            "\u001b[0;31mValueError\u001b[0m: `tape` is required when a `Tensor` loss is passed. Received: loss=Tensor(\"add_2:0\", shape=(), dtype=float32), tape=None."
          ]
        }
      ],
      "source": [
        "from pprint import pprint\n",
        "\n",
        "autoencoder_layers = [54, 32, 16]\n",
        "batch_size = 1024\n",
        "\n",
        "nu = 0.3\n",
        "alpha = 1e3\n",
        "sigma = 3.0\n",
        "kernel_features = 200\n",
        "\n",
        "\n",
        "tf.compat.v1.disable_eager_execution()\n",
        "data_input = tf.compat.v1.placeholder(tf.float32, shape=[None, 54])\n",
        "\n",
        "ae1svm = AEOneClassSVM(data_input, batch_size, 'ae1svm', autoencoder_layers[1:], nu, alpha, sigma, kernel_features,\n",
        "                       autoencoder_activation='sigmoid', seed=4,\n",
        "                       full_op=tf.optimizers.Adam(1e-2),\n",
        "                       svm_op=tf.optimizers.Adam(1e-4))\n",
        "\n",
        "\n"
      ]
    },
    {
      "cell_type": "code",
      "execution_count": null,
      "metadata": {
        "id": "-EpsuBB81wE8"
      },
      "outputs": [],
      "source": []
    },
    {
      "cell_type": "code",
      "execution_count": null,
      "metadata": {
        "colab": {
          "base_uri": "https://localhost:8080/"
        },
        "id": "HwELVmlDiilZ",
        "outputId": "3a23f19f-3e8a-46cb-b8d5-77b5c3abab92"
      },
      "outputs": [
        {
          "name": "stdout",
          "output_type": "stream",
          "text": [
            "\\begin{tabular}{llrrrrrr}\n",
            "\\toprule\n",
            "{} &     dataset  &       sigma &  \\#train obs &  nb\\_features  &     AUROC &       time &  \\#sv \\\\\n",
            "\\midrule\n",
            "0 &        cover &  489.409138 &      226640 &             4 &  0.934185 &  32.317753 &  277 \\\\\n",
            "1 &  mammography &    0.434546 &        8738 &             2 &  0.681297 &   2.074640 &  160 \\\\\n",
            "2 &   satimage-2 &   20.730649 &        4585 &             5 &  0.869353 &   4.054209 &  421 \\\\\n",
            "\\bottomrule\n",
            "\\end{tabular}\n",
            "\n"
          ]
        }
      ],
      "source": [
        "print(latex_table)"
      ]
    },
    {
      "cell_type": "markdown",
      "metadata": {
        "id": "9Cn32UNpirgJ"
      },
      "source": [
        "$\\begin{tabular}{llrrrrrr}\n",
        "\\toprule\n",
        "{} &     dataset  &       sigma &  \\#train obs &  nb\\_features  &     AUROC &       time &   \\#sv \\\\\n",
        "\\midrule\n",
        "0 &        cover &  490.215556 &      226640 &            10 &  0.934546 &  42.158550 &   389 \\\\\n",
        "1 &  mammography &    0.546081 &        8738 &             6 &  0.764623 &   3.828233 &   611 \\\\\n",
        "2 &   satimage-2 &   21.321185 &        4585 &            36 &  0.780892 &  11.981400 &  1002 \\\\\n",
        "\\bottomrule\n",
        "\\end{tabular}$"
      ]
    },
    {
      "cell_type": "code",
      "execution_count": null,
      "metadata": {
        "id": "mdQpz5lyrCR2"
      },
      "outputs": [],
      "source": [
        "import scipy.io\n",
        "\n",
        "# Charger le fichier .mat\n",
        "nom_fichier_mat = '/content/drive/MyDrive/IA326/project/satimage-2.mat'\n",
        "donnees = scipy.io.loadmat(nom_fichier_mat)\n"
      ]
    },
    {
      "cell_type": "code",
      "execution_count": null,
      "metadata": {
        "colab": {
          "base_uri": "https://localhost:8080/",
          "height": 929
        },
        "id": "hApwq_aua7WM",
        "outputId": "149c5cef-4fea-44f1-f0a1-815f58d94271"
      },
      "outputs": [
        {
          "ename": "ValueError",
          "evalue": "zero-size array to reduction operation maximum which has no identity",
          "output_type": "error",
          "traceback": [
            "\u001b[0;31m---------------------------------------------------------------------------\u001b[0m",
            "\u001b[0;31mValueError\u001b[0m                                Traceback (most recent call last)",
            "\u001b[0;32m<ipython-input-24-7bef9bbf4bf0>\u001b[0m in \u001b[0;36m<cell line: 3>\u001b[0;34m()\u001b[0m\n\u001b[1;32m      1\u001b[0m \u001b[0;32mfrom\u001b[0m \u001b[0msklearn\u001b[0m\u001b[0;34m.\u001b[0m\u001b[0mdecomposition\u001b[0m \u001b[0;32mimport\u001b[0m \u001b[0mKernelPCA\u001b[0m\u001b[0;34m\u001b[0m\u001b[0;34m\u001b[0m\u001b[0m\n\u001b[1;32m      2\u001b[0m \u001b[0mtransformer\u001b[0m \u001b[0;34m=\u001b[0m \u001b[0mKernelPCA\u001b[0m\u001b[0;34m(\u001b[0m\u001b[0mn_components\u001b[0m\u001b[0;34m=\u001b[0m\u001b[0;36m10\u001b[0m\u001b[0;34m,\u001b[0m \u001b[0mkernel\u001b[0m\u001b[0;34m=\u001b[0m\u001b[0;34m'rbf'\u001b[0m\u001b[0;34m,\u001b[0m \u001b[0mgamma\u001b[0m\u001b[0;34m=\u001b[0m \u001b[0msigma\u001b[0m\u001b[0;34m)\u001b[0m\u001b[0;34m\u001b[0m\u001b[0;34m\u001b[0m\u001b[0m\n\u001b[0;32m----> 3\u001b[0;31m \u001b[0mX_transformed\u001b[0m \u001b[0;34m=\u001b[0m \u001b[0mtransformer\u001b[0m\u001b[0;34m.\u001b[0m\u001b[0mfit_transform\u001b[0m\u001b[0;34m(\u001b[0m\u001b[0mdonnees\u001b[0m\u001b[0;34m[\u001b[0m\u001b[0;34m'X'\u001b[0m\u001b[0;34m]\u001b[0m\u001b[0;34m)\u001b[0m\u001b[0;34m\u001b[0m\u001b[0;34m\u001b[0m\u001b[0m\n\u001b[0m",
            "\u001b[0;32m/usr/local/lib/python3.10/dist-packages/sklearn/utils/_set_output.py\u001b[0m in \u001b[0;36mwrapped\u001b[0;34m(self, X, *args, **kwargs)\u001b[0m\n\u001b[1;32m    138\u001b[0m     \u001b[0;34m@\u001b[0m\u001b[0mwraps\u001b[0m\u001b[0;34m(\u001b[0m\u001b[0mf\u001b[0m\u001b[0;34m)\u001b[0m\u001b[0;34m\u001b[0m\u001b[0;34m\u001b[0m\u001b[0m\n\u001b[1;32m    139\u001b[0m     \u001b[0;32mdef\u001b[0m \u001b[0mwrapped\u001b[0m\u001b[0;34m(\u001b[0m\u001b[0mself\u001b[0m\u001b[0;34m,\u001b[0m \u001b[0mX\u001b[0m\u001b[0;34m,\u001b[0m \u001b[0;34m*\u001b[0m\u001b[0margs\u001b[0m\u001b[0;34m,\u001b[0m \u001b[0;34m**\u001b[0m\u001b[0mkwargs\u001b[0m\u001b[0;34m)\u001b[0m\u001b[0;34m:\u001b[0m\u001b[0;34m\u001b[0m\u001b[0;34m\u001b[0m\u001b[0m\n\u001b[0;32m--> 140\u001b[0;31m         \u001b[0mdata_to_wrap\u001b[0m \u001b[0;34m=\u001b[0m \u001b[0mf\u001b[0m\u001b[0;34m(\u001b[0m\u001b[0mself\u001b[0m\u001b[0;34m,\u001b[0m \u001b[0mX\u001b[0m\u001b[0;34m,\u001b[0m \u001b[0;34m*\u001b[0m\u001b[0margs\u001b[0m\u001b[0;34m,\u001b[0m \u001b[0;34m**\u001b[0m\u001b[0mkwargs\u001b[0m\u001b[0;34m)\u001b[0m\u001b[0;34m\u001b[0m\u001b[0;34m\u001b[0m\u001b[0m\n\u001b[0m\u001b[1;32m    141\u001b[0m         \u001b[0;32mif\u001b[0m \u001b[0misinstance\u001b[0m\u001b[0;34m(\u001b[0m\u001b[0mdata_to_wrap\u001b[0m\u001b[0;34m,\u001b[0m \u001b[0mtuple\u001b[0m\u001b[0;34m)\u001b[0m\u001b[0;34m:\u001b[0m\u001b[0;34m\u001b[0m\u001b[0;34m\u001b[0m\u001b[0m\n\u001b[1;32m    142\u001b[0m             \u001b[0;31m# only wrap the first output for cross decomposition\u001b[0m\u001b[0;34m\u001b[0m\u001b[0;34m\u001b[0m\u001b[0m\n",
            "\u001b[0;32m/usr/local/lib/python3.10/dist-packages/sklearn/decomposition/_kernel_pca.py\u001b[0m in \u001b[0;36mfit_transform\u001b[0;34m(self, X, y, **params)\u001b[0m\n\u001b[1;32m    454\u001b[0m             \u001b[0mReturns\u001b[0m \u001b[0mthe\u001b[0m \u001b[0minstance\u001b[0m \u001b[0mitself\u001b[0m\u001b[0;34m.\u001b[0m\u001b[0;34m\u001b[0m\u001b[0;34m\u001b[0m\u001b[0m\n\u001b[1;32m    455\u001b[0m         \"\"\"\n\u001b[0;32m--> 456\u001b[0;31m         \u001b[0mself\u001b[0m\u001b[0;34m.\u001b[0m\u001b[0mfit\u001b[0m\u001b[0;34m(\u001b[0m\u001b[0mX\u001b[0m\u001b[0;34m,\u001b[0m \u001b[0;34m**\u001b[0m\u001b[0mparams\u001b[0m\u001b[0;34m)\u001b[0m\u001b[0;34m\u001b[0m\u001b[0;34m\u001b[0m\u001b[0m\n\u001b[0m\u001b[1;32m    457\u001b[0m \u001b[0;34m\u001b[0m\u001b[0m\n\u001b[1;32m    458\u001b[0m         \u001b[0;31m# no need to use the kernel to transform X, use shortcut expression\u001b[0m\u001b[0;34m\u001b[0m\u001b[0;34m\u001b[0m\u001b[0m\n",
            "\u001b[0;32m/usr/local/lib/python3.10/dist-packages/sklearn/decomposition/_kernel_pca.py\u001b[0m in \u001b[0;36mfit\u001b[0;34m(self, X, y)\u001b[0m\n\u001b[1;32m    422\u001b[0m         \u001b[0mself\u001b[0m\u001b[0;34m.\u001b[0m\u001b[0m_centerer\u001b[0m \u001b[0;34m=\u001b[0m \u001b[0mKernelCenterer\u001b[0m\u001b[0;34m(\u001b[0m\u001b[0;34m)\u001b[0m\u001b[0;34m\u001b[0m\u001b[0;34m\u001b[0m\u001b[0m\n\u001b[1;32m    423\u001b[0m         \u001b[0mK\u001b[0m \u001b[0;34m=\u001b[0m \u001b[0mself\u001b[0m\u001b[0;34m.\u001b[0m\u001b[0m_get_kernel\u001b[0m\u001b[0;34m(\u001b[0m\u001b[0mX\u001b[0m\u001b[0;34m)\u001b[0m\u001b[0;34m\u001b[0m\u001b[0;34m\u001b[0m\u001b[0m\n\u001b[0;32m--> 424\u001b[0;31m         \u001b[0mself\u001b[0m\u001b[0;34m.\u001b[0m\u001b[0m_fit_transform\u001b[0m\u001b[0;34m(\u001b[0m\u001b[0mK\u001b[0m\u001b[0;34m)\u001b[0m\u001b[0;34m\u001b[0m\u001b[0;34m\u001b[0m\u001b[0m\n\u001b[0m\u001b[1;32m    425\u001b[0m \u001b[0;34m\u001b[0m\u001b[0m\n\u001b[1;32m    426\u001b[0m         \u001b[0;32mif\u001b[0m \u001b[0mself\u001b[0m\u001b[0;34m.\u001b[0m\u001b[0mfit_inverse_transform\u001b[0m\u001b[0;34m:\u001b[0m\u001b[0;34m\u001b[0m\u001b[0;34m\u001b[0m\u001b[0m\n",
            "\u001b[0;32m/usr/local/lib/python3.10/dist-packages/sklearn/decomposition/_kernel_pca.py\u001b[0m in \u001b[0;36m_fit_transform\u001b[0;34m(self, K)\u001b[0m\n\u001b[1;32m    346\u001b[0m \u001b[0;34m\u001b[0m\u001b[0m\n\u001b[1;32m    347\u001b[0m         \u001b[0;31m# make sure that the eigenvalues are ok and fix numerical issues\u001b[0m\u001b[0;34m\u001b[0m\u001b[0;34m\u001b[0m\u001b[0m\n\u001b[0;32m--> 348\u001b[0;31m         self.eigenvalues_ = _check_psd_eigenvalues(\n\u001b[0m\u001b[1;32m    349\u001b[0m             \u001b[0mself\u001b[0m\u001b[0;34m.\u001b[0m\u001b[0meigenvalues_\u001b[0m\u001b[0;34m,\u001b[0m \u001b[0menable_warnings\u001b[0m\u001b[0;34m=\u001b[0m\u001b[0;32mFalse\u001b[0m\u001b[0;34m\u001b[0m\u001b[0;34m\u001b[0m\u001b[0m\n\u001b[1;32m    350\u001b[0m         )\n",
            "\u001b[0;32m/usr/local/lib/python3.10/dist-packages/sklearn/utils/validation.py\u001b[0m in \u001b[0;36m_check_psd_eigenvalues\u001b[0;34m(lambdas, enable_warnings)\u001b[0m\n\u001b[1;32m   1664\u001b[0m \u001b[0;34m\u001b[0m\u001b[0m\n\u001b[1;32m   1665\u001b[0m     \u001b[0;31m# Check that there are no significant negative eigenvalues\u001b[0m\u001b[0;34m\u001b[0m\u001b[0;34m\u001b[0m\u001b[0m\n\u001b[0;32m-> 1666\u001b[0;31m     \u001b[0mmax_eig\u001b[0m \u001b[0;34m=\u001b[0m \u001b[0mlambdas\u001b[0m\u001b[0;34m.\u001b[0m\u001b[0mmax\u001b[0m\u001b[0;34m(\u001b[0m\u001b[0;34m)\u001b[0m\u001b[0;34m\u001b[0m\u001b[0;34m\u001b[0m\u001b[0m\n\u001b[0m\u001b[1;32m   1667\u001b[0m     \u001b[0;32mif\u001b[0m \u001b[0mmax_eig\u001b[0m \u001b[0;34m<\u001b[0m \u001b[0;36m0\u001b[0m\u001b[0;34m:\u001b[0m\u001b[0;34m\u001b[0m\u001b[0;34m\u001b[0m\u001b[0m\n\u001b[1;32m   1668\u001b[0m         raise ValueError(\n",
            "\u001b[0;32m/usr/local/lib/python3.10/dist-packages/numpy/core/_methods.py\u001b[0m in \u001b[0;36m_amax\u001b[0;34m(a, axis, out, keepdims, initial, where)\u001b[0m\n\u001b[1;32m     39\u001b[0m def _amax(a, axis=None, out=None, keepdims=False,\n\u001b[1;32m     40\u001b[0m           initial=_NoValue, where=True):\n\u001b[0;32m---> 41\u001b[0;31m     \u001b[0;32mreturn\u001b[0m \u001b[0mumr_maximum\u001b[0m\u001b[0;34m(\u001b[0m\u001b[0ma\u001b[0m\u001b[0;34m,\u001b[0m \u001b[0maxis\u001b[0m\u001b[0;34m,\u001b[0m \u001b[0;32mNone\u001b[0m\u001b[0;34m,\u001b[0m \u001b[0mout\u001b[0m\u001b[0;34m,\u001b[0m \u001b[0mkeepdims\u001b[0m\u001b[0;34m,\u001b[0m \u001b[0minitial\u001b[0m\u001b[0;34m,\u001b[0m \u001b[0mwhere\u001b[0m\u001b[0;34m)\u001b[0m\u001b[0;34m\u001b[0m\u001b[0;34m\u001b[0m\u001b[0m\n\u001b[0m\u001b[1;32m     42\u001b[0m \u001b[0;34m\u001b[0m\u001b[0m\n\u001b[1;32m     43\u001b[0m def _amin(a, axis=None, out=None, keepdims=False,\n",
            "\u001b[0;31mValueError\u001b[0m: zero-size array to reduction operation maximum which has no identity"
          ]
        }
      ],
      "source": [
        "from sklearn.decomposition import KernelPCA\n",
        "transformer = KernelPCA(n_components=10, kernel='rbf', gamma= sigma)\n",
        "X_transformed = transformer.fit_transform(donnees['X'])"
      ]
    },
    {
      "cell_type": "code",
      "execution_count": null,
      "metadata": {
        "colab": {
          "base_uri": "https://localhost:8080/"
        },
        "id": "t53u0xvDbZVW",
        "outputId": "a3e7636f-65a2-4d83-8cea-1d1d42fe4af4"
      },
      "outputs": [
        {
          "data": {
            "text/plain": [
              "(5803, 7)"
            ]
          },
          "execution_count": 18,
          "metadata": {},
          "output_type": "execute_result"
        }
      ],
      "source": [
        "X_transformed.shape"
      ]
    },
    {
      "cell_type": "code",
      "execution_count": null,
      "metadata": {
        "id": "9CDmCKckbL7i"
      },
      "outputs": [],
      "source": []
    },
    {
      "cell_type": "code",
      "execution_count": null,
      "metadata": {
        "colab": {
          "base_uri": "https://localhost:8080/"
        },
        "id": "4sY6RenZAmNh",
        "outputId": "57e38fc0-846c-4137-d560-a04a5fd6c396"
      },
      "outputs": [
        {
          "data": {
            "text/plain": [
              "(3686, 400)"
            ]
          },
          "execution_count": 83,
          "metadata": {},
          "output_type": "execute_result"
        }
      ],
      "source": [
        "donnees['X'].shape"
      ]
    },
    {
      "cell_type": "code",
      "execution_count": null,
      "metadata": {
        "id": "-_p2IbQ9qLQ_"
      },
      "outputs": [],
      "source": [
        "def rule_of_thumb_silverman(data):\n",
        "    s = (data.shape[1] * (data.shape[0] + 2) / 4.0) ** (-1.0 / (data.shape[0] + 4.0))\n",
        "    return 1 / (2 * s ** 2)"
      ]
    },
    {
      "cell_type": "code",
      "execution_count": null,
      "metadata": {
        "id": "fzNQMbTupieF"
      },
      "outputs": [],
      "source": [
        "l = rule_of_thumb_silverman(donnees['X'])"
      ]
    },
    {
      "cell_type": "code",
      "execution_count": null,
      "metadata": {
        "colab": {
          "base_uri": "https://localhost:8080/"
        },
        "id": "e1mYN5WeqUee",
        "outputId": "2daffc0d-e21d-4ff9-ab1a-20b3b7d330d5"
      },
      "outputs": [
        {
          "data": {
            "text/plain": [
              "3.9992460703815973"
            ]
          },
          "execution_count": 13,
          "metadata": {},
          "output_type": "execute_result"
        }
      ],
      "source": [
        "1/(l**2)"
      ]
    },
    {
      "cell_type": "code",
      "execution_count": null,
      "metadata": {
        "colab": {
          "base_uri": "https://localhost:8080/"
        },
        "id": "MQ59iYtAqik9",
        "outputId": "9ed27016-9e78-4943-a50c-47f9b657ea66"
      },
      "outputs": [
        {
          "data": {
            "text/plain": [
              "0.5000471272632497"
            ]
          },
          "execution_count": 12,
          "metadata": {},
          "output_type": "execute_result"
        }
      ],
      "source": [
        "l"
      ]
    },
    {
      "cell_type": "code",
      "execution_count": null,
      "metadata": {
        "colab": {
          "base_uri": "https://localhost:8080/"
        },
        "id": "S5dlQP43WlDu",
        "outputId": "2afda479-c27b-42f1-a5c2-09f75f39a716"
      },
      "outputs": [
        {
          "data": {
            "text/plain": [
              "(5803, 5)"
            ]
          },
          "execution_count": 143,
          "metadata": {},
          "output_type": "execute_result"
        }
      ],
      "source": [
        "from sklearn.datasets import load_digits\n",
        "from sklearn.decomposition import PCA\n",
        "\n",
        "transformer = PCA( n_components = 5)\n",
        "X_std = sc.transform(donnees['X'])\n",
        "X_transformed = transformer.fit_transform(X_std)\n",
        "X_transformed.shape"
      ]
    },
    {
      "cell_type": "code",
      "execution_count": null,
      "metadata": {
        "id": "rQiAeWxHgGG4"
      },
      "outputs": [],
      "source": [
        "def rff_gaussian(input_dim, d, X, gamma = 1.0):\n",
        "  omega= np.random.normal(size=(input_dim, d), scale = np.sqrt(2*gamma))\n",
        "  b = np.random.uniform(0, 2 * np.pi, size=(1, d))\n",
        "  return np.sqrt(2 / d) * np.cos(X @ omega + b)\n"
      ]
    },
    {
      "cell_type": "code",
      "execution_count": null,
      "metadata": {
        "id": "cCJwhlDSgG0l"
      },
      "outputs": [],
      "source": [
        "x_rff = rff_gaussian(10,  20, donnees['X'], gamma= 420)"
      ]
    },
    {
      "cell_type": "code",
      "execution_count": null,
      "metadata": {
        "colab": {
          "base_uri": "https://localhost:8080/"
        },
        "id": "3OMDVecUg8Wm",
        "outputId": "c2c92e9e-b66b-4b5a-d7bd-35d35d9d8efc"
      },
      "outputs": [
        {
          "data": {
            "text/plain": [
              "(286048, 20)"
            ]
          },
          "execution_count": 32,
          "metadata": {},
          "output_type": "execute_result"
        }
      ],
      "source": [
        "x_rff.shape"
      ]
    },
    {
      "cell_type": "code",
      "execution_count": null,
      "metadata": {
        "colab": {
          "base_uri": "https://localhost:8080/"
        },
        "id": "aOAKth7iz77n",
        "outputId": "786776b7-4d97-4f57-afe8-f5d6670f9ea9"
      },
      "outputs": [
        {
          "data": {
            "text/plain": [
              "286048"
            ]
          },
          "execution_count": 10,
          "metadata": {},
          "output_type": "execute_result"
        }
      ],
      "source": [
        "len(donnees['X'])"
      ]
    },
    {
      "cell_type": "code",
      "execution_count": null,
      "metadata": {
        "colab": {
          "base_uri": "https://localhost:8080/"
        },
        "id": "dnJ_SEfN5ek8",
        "outputId": "6a72944e-4bd6-498f-d90f-14a958874cc9"
      },
      "outputs": [
        {
          "data": {
            "text/plain": [
              "(2747, 10)"
            ]
          },
          "execution_count": 41,
          "metadata": {},
          "output_type": "execute_result"
        }
      ],
      "source": [
        "donnees['X'][indices_outliners].shape"
      ]
    },
    {
      "cell_type": "code",
      "execution_count": null,
      "metadata": {
        "id": "7hs32kvSwWZX"
      },
      "outputs": [],
      "source": [
        "indices_inliners = np.where(donnees['y'] == 0)[0]\n",
        "indices_outliners = np.where(donnees['y'] == 1)[0]"
      ]
    },
    {
      "cell_type": "code",
      "execution_count": null,
      "metadata": {
        "colab": {
          "base_uri": "https://localhost:8080/"
        },
        "id": "W8BegKxopfgS",
        "outputId": "908fea19-ffa3-46a8-c531-54db07f71f73"
      },
      "outputs": [
        {
          "data": {
            "text/plain": [
              "283301"
            ]
          },
          "execution_count": 19,
          "metadata": {},
          "output_type": "execute_result"
        }
      ],
      "source": [
        "len(indices_inliners)"
      ]
    },
    {
      "cell_type": "code",
      "execution_count": null,
      "metadata": {
        "colab": {
          "base_uri": "https://localhost:8080/"
        },
        "id": "biDuQZ_Wi7JD",
        "outputId": "09a8d933-3fa0-4091-cf64-56ad892f40f1"
      },
      "outputs": [
        {
          "name": "stderr",
          "output_type": "stream",
          "text": [
            "<ipython-input-4-59f045f0133e>:41: DeprecationWarning: Conversion of an array with ndim > 0 to a scalar is deprecated, and will error in future. Ensure you extract a single element from your array before performing this operation. (Deprecated NumPy 1.25.)\n",
            "  new_inv_A[ t_a,  t_a] = 1/beta\n"
          ]
        }
      ],
      "source": [
        "from sklearn.model_selection import train_test_split\n",
        "X_train, X_test, y_train, y_test  = train_test_split(donnees['X'][indices_inliners] ,  donnees['y'][indices_inliners], test_size=1/5, random_state=42)\n",
        "fd =  FISVDD(X_train, sigma = sigma)\n",
        "fd.train()\n"
      ]
    },
    {
      "cell_type": "code",
      "execution_count": null,
      "metadata": {
        "id": "GS_ZJ0Or2UMg"
      },
      "outputs": [],
      "source": [
        "from sklearn.model_selection import train_test_split\n",
        "X_train, X_test, y_train, y_test  = train_test_split(x_rff[indices_inliners] ,  donnees['y'][indices_inliners], test_size=1/5, random_state=42)\n",
        "fd =  FISVDD_rff(X_train)\n",
        "fd.train()"
      ]
    },
    {
      "cell_type": "code",
      "execution_count": null,
      "metadata": {
        "colab": {
          "base_uri": "https://localhost:8080/"
        },
        "id": "J3zx9ikrZjaw",
        "outputId": "9feaf34c-aaca-46e4-d9e4-f8e97a617d84"
      },
      "outputs": [
        {
          "name": "stderr",
          "output_type": "stream",
          "text": [
            "<ipython-input-4-59f045f0133e>:41: DeprecationWarning: Conversion of an array with ndim > 0 to a scalar is deprecated, and will error in future. Ensure you extract a single element from your array before performing this operation. (Deprecated NumPy 1.25.)\n",
            "  new_inv_A[ t_a,  t_a] = 1/beta\n"
          ]
        }
      ],
      "source": [
        "from sklearn.model_selection import train_test_split\n",
        "X_train, X_test, y_train, y_test  = train_test_split(X_transformed[indices_inliners] ,  donnees['y'][indices_inliners], test_size=1/5, random_state=42)\n",
        "fd =  FISVDD(X_train, sigma= sigma)\n",
        "fd.train()"
      ]
    },
    {
      "cell_type": "code",
      "execution_count": null,
      "metadata": {
        "colab": {
          "base_uri": "https://localhost:8080/"
        },
        "id": "bwjgTiKnkg4D",
        "outputId": "37bbeea9-11f2-46b6-b34f-44a2d82cbbcd"
      },
      "outputs": [
        {
          "data": {
            "text/plain": [
              "[0.17063592041068368,\n",
              " 0.17063592041068368,\n",
              " 0.10205576931898316,\n",
              " 0.10205576931898316,\n",
              " 0.08871411032078429,\n",
              " 0.08871411032078429,\n",
              " 0.07441070409839741,\n",
              " 0.07441070409839741,\n",
              " 0.06335855748071355,\n",
              " 0.06335855748071355,\n",
              " 0.055202997543871146,\n",
              " 0.055202997543871146,\n",
              " 0.04978463554955426,\n",
              " 0.04978463554955426,\n",
              " 0.04978463554955426,\n",
              " 0.04978463554955426,\n",
              " 0.04857518270529986,\n",
              " 0.04857518270529986,\n",
              " 0.04857518270529986,\n",
              " 0.04649670401784925,\n",
              " 0.04649670401784925,\n",
              " 0.04459816987674711,\n",
              " 0.04459816987674711,\n",
              " 0.04440423978636459,\n",
              " 0.04440423978636459,\n",
              " 0.04395970257272001,\n",
              " 0.04395970257272001,\n",
              " 0.04238944806282918,\n",
              " 0.04238944806282918,\n",
              " 0.04238944806282918,\n",
              " 0.04238944806282918,\n",
              " 0.041128948230864174,\n",
              " 0.041128948230864174,\n",
              " 0.040869520882662755,\n",
              " 0.040869520882662755,\n",
              " 0.037344406980837845,\n",
              " 0.037344406980837845,\n",
              " 0.0364397685882296,\n",
              " 0.0364397685882296,\n",
              " 0.036146241710428066,\n",
              " 0.036146241710428066,\n",
              " 0.03444065667328152,\n",
              " 0.03444065667328152,\n",
              " 0.03414124080688895,\n",
              " 0.03414124080688895,\n",
              " 0.03412607979559424,\n",
              " 0.03412607979559424,\n",
              " 0.03375373607191426,\n",
              " 0.03375373607191426,\n",
              " 0.03368590192002352,\n",
              " 0.03368590192002352,\n",
              " 0.03368590192002352,\n",
              " 0.03368590192002352,\n",
              " 0.03368590192002352,\n",
              " 0.030916440537641008,\n",
              " 0.030916440537641008,\n",
              " 0.030211661536811592,\n",
              " 0.030211661536811592,\n",
              " 0.030211661536811592,\n",
              " 0.02996839372463,\n",
              " 0.02996839372463,\n",
              " 0.02995530716489386,\n",
              " 0.02995530716489386,\n",
              " 0.029040929083994044,\n",
              " 0.029040929083994044,\n",
              " 0.029040929083994044,\n",
              " 0.02779077738936254,\n",
              " 0.02779077738936254,\n",
              " 0.02779077738936254,\n",
              " 0.027744511327667004,\n",
              " 0.027744511327667004,\n",
              " 0.02745373619113417,\n",
              " 0.02745373619113417,\n",
              " 0.02745373619113417,\n",
              " 0.02745373619113417,\n",
              " 0.02701704736084491,\n",
              " 0.02701704736084491,\n",
              " 0.02701704736084491,\n",
              " 0.026617615482743388,\n",
              " 0.026617615482743388,\n",
              " 0.026617615482743388,\n",
              " 0.026617615482743388,\n",
              " 0.026084966395611597,\n",
              " 0.026084966395611597,\n",
              " 0.026084966395611597,\n",
              " 0.02542117549699004,\n",
              " 0.02542117549699004,\n",
              " 0.025374846368444018,\n",
              " 0.025374846368444018,\n",
              " 0.025374846368444018,\n",
              " 0.02529370292748246,\n",
              " 0.02529370292748246,\n",
              " 0.02529370292748246,\n",
              " 0.025013343386842187,\n",
              " 0.025013343386842187,\n",
              " 0.025013343386842187,\n",
              " 0.025013343386842187,\n",
              " 0.02465305072255834,\n",
              " 0.02465305072255834,\n",
              " 0.02465305072255834,\n",
              " 0.02465305072255834,\n",
              " 0.02449568073325266,\n",
              " 0.02449568073325266,\n",
              " 0.02449568073325266,\n",
              " 0.02449568073325266,\n",
              " 0.02375537047028729,\n",
              " 0.02375537047028729,\n",
              " 0.023280076662567473,\n",
              " 0.023280076662567473,\n",
              " 0.023280076662567473,\n",
              " 0.023280076662567473,\n",
              " 0.02315248595247634,\n",
              " 0.02315248595247634,\n",
              " 0.02307561255691139,\n",
              " 0.02307561255691139,\n",
              " 0.02297560510418472,\n",
              " 0.02297560510418472,\n",
              " 0.022864348230102135,\n",
              " 0.022864348230102135,\n",
              " 0.02265617656877241,\n",
              " 0.02265617656877241,\n",
              " 0.02223651463386984,\n",
              " 0.02223651463386984,\n",
              " 0.022214463808627186,\n",
              " 0.022214463808627186,\n",
              " 0.022176360518116243,\n",
              " 0.022176360518116243,\n",
              " 0.022176360518116243,\n",
              " 0.022009204815825013,\n",
              " 0.022009204815825013,\n",
              " 0.02177441507006462,\n",
              " 0.02177441507006462,\n",
              " 0.021596286299165716,\n",
              " 0.021596286299165716,\n",
              " 0.021537935199702807,\n",
              " 0.021537935199702807,\n",
              " 0.021134322644665922,\n",
              " 0.021134322644665922,\n",
              " 0.021134322644665922,\n",
              " 0.021048532365218912,\n",
              " 0.021048532365218912,\n",
              " 0.021048532365218912,\n",
              " 0.021048532365218912,\n",
              " 0.021048532365218912]"
            ]
          },
          "execution_count": 96,
          "metadata": {},
          "output_type": "execute_result"
        }
      ],
      "source": [
        "fd.obj_val"
      ]
    },
    {
      "cell_type": "code",
      "execution_count": null,
      "metadata": {
        "colab": {
          "base_uri": "https://localhost:8080/",
          "height": 315
        },
        "id": "eZ_0aJD46P-y",
        "outputId": "5f35ed4c-9956-4f2e-90da-ea16e681881b"
      },
      "outputs": [
        {
          "name": "stderr",
          "output_type": "stream",
          "text": [
            "<ipython-input-4-59f045f0133e>:41: DeprecationWarning: Conversion of an array with ndim > 0 to a scalar is deprecated, and will error in future. Ensure you extract a single element from your array before performing this operation. (Deprecated NumPy 1.25.)\n",
            "  new_inv_A[ t_a,  t_a] = 1/beta\n"
          ]
        },
        {
          "ename": "KeyboardInterrupt",
          "evalue": "",
          "output_type": "error",
          "traceback": [
            "\u001b[0;31m---------------------------------------------------------------------------\u001b[0m",
            "\u001b[0;31mKeyboardInterrupt\u001b[0m                         Traceback (most recent call last)",
            "\u001b[0;32m<ipython-input-34-796621931540>\u001b[0m in \u001b[0;36m<cell line: 2>\u001b[0;34m()\u001b[0m\n\u001b[1;32m      1\u001b[0m \u001b[0mfd\u001b[0m \u001b[0;34m=\u001b[0m  \u001b[0mFISVDD\u001b[0m\u001b[0;34m(\u001b[0m\u001b[0mX_train\u001b[0m\u001b[0;34m,\u001b[0m \u001b[0msigma\u001b[0m \u001b[0;34m=\u001b[0m \u001b[0;36m869\u001b[0m\u001b[0;34m)\u001b[0m\u001b[0;34m\u001b[0m\u001b[0;34m\u001b[0m\u001b[0m\n\u001b[0;32m----> 2\u001b[0;31m \u001b[0mfd\u001b[0m\u001b[0;34m.\u001b[0m\u001b[0mtrain\u001b[0m\u001b[0;34m(\u001b[0m\u001b[0;34m)\u001b[0m\u001b[0;34m\u001b[0m\u001b[0;34m\u001b[0m\u001b[0m\n\u001b[0m",
            "\u001b[0;32m<ipython-input-4-59f045f0133e>\u001b[0m in \u001b[0;36mtrain\u001b[0;34m(self)\u001b[0m\n\u001b[1;32m     87\u001b[0m \u001b[0;34m\u001b[0m\u001b[0m\n\u001b[1;32m     88\u001b[0m       \u001b[0mnew_sv\u001b[0m \u001b[0;34m=\u001b[0m \u001b[0mnp\u001b[0m\u001b[0;34m.\u001b[0m\u001b[0marray\u001b[0m\u001b[0;34m(\u001b[0m\u001b[0;34m[\u001b[0m\u001b[0mnew_data\u001b[0m\u001b[0;34m]\u001b[0m\u001b[0;34m)\u001b[0m\u001b[0;34m\u001b[0m\u001b[0;34m\u001b[0m\u001b[0m\n\u001b[0;32m---> 89\u001b[0;31m       \u001b[0mQ\u001b[0m\u001b[0;34m,\u001b[0m \u001b[0mv\u001b[0m \u001b[0;34m=\u001b[0m \u001b[0mself\u001b[0m\u001b[0;34m.\u001b[0m\u001b[0mscore_fcn\u001b[0m\u001b[0;34m(\u001b[0m\u001b[0mnew_data\u001b[0m\u001b[0;34m)\u001b[0m\u001b[0;34m\u001b[0m\u001b[0;34m\u001b[0m\u001b[0m\n\u001b[0m\u001b[1;32m     90\u001b[0m       \u001b[0;32mif\u001b[0m \u001b[0mQ\u001b[0m \u001b[0;34m<=\u001b[0m \u001b[0;36m0\u001b[0m \u001b[0;34m:\u001b[0m\u001b[0;34m\u001b[0m\u001b[0;34m\u001b[0m\u001b[0m\n\u001b[1;32m     91\u001b[0m         \u001b[0;32mpass\u001b[0m\u001b[0;34m\u001b[0m\u001b[0;34m\u001b[0m\u001b[0m\n",
            "\u001b[0;31mKeyboardInterrupt\u001b[0m: "
          ]
        }
      ],
      "source": [
        "fd =  FISVDD(X_train, sigma = 869)\n",
        "fd.train()"
      ]
    },
    {
      "cell_type": "code",
      "execution_count": null,
      "metadata": {
        "colab": {
          "base_uri": "https://localhost:8080/"
        },
        "id": "n31sSYrZsdQY",
        "outputId": "d9a40286-b24f-44c2-a000-7a1ac263dcb2"
      },
      "outputs": [
        {
          "data": {
            "text/plain": [
              "223"
            ]
          },
          "execution_count": 97,
          "metadata": {},
          "output_type": "execute_result"
        }
      ],
      "source": [
        "len(fd.sv)"
      ]
    },
    {
      "cell_type": "code",
      "execution_count": null,
      "metadata": {
        "id": "4cKt8hCD-RI0"
      },
      "outputs": [],
      "source": [
        "X_test_  = np.vstack((X_test,  donnees['X'][indices_outliners]))\n",
        "y_test_ = np.vstack((y_test,  donnees['y'][indices_outliners]))"
      ]
    },
    {
      "cell_type": "code",
      "execution_count": null,
      "metadata": {
        "id": "m6m4Y0rVaJPs"
      },
      "outputs": [],
      "source": [
        "X_test_  = np.vstack((X_test,  X_transformed[indices_outliners]))\n",
        "y_test_ = np.vstack((y_test,  donnees['y'][indices_outliners]))"
      ]
    },
    {
      "cell_type": "code",
      "execution_count": null,
      "metadata": {
        "colab": {
          "base_uri": "https://localhost:8080/"
        },
        "id": "OkSQDQOYDso8",
        "outputId": "dd4c503e-4bff-428e-921e-92f9053a8397"
      },
      "outputs": [
        {
          "data": {
            "text/plain": [
              "59408"
            ]
          },
          "execution_count": 90,
          "metadata": {},
          "output_type": "execute_result"
        }
      ],
      "source": [
        "len(X_test_)"
      ]
    },
    {
      "cell_type": "code",
      "execution_count": null,
      "metadata": {
        "id": "MORbygXj9HHW"
      },
      "outputs": [],
      "source": [
        "def predict(A):\n",
        "  y = np.zeros(len(A))\n",
        "  for i in range(len(A)):\n",
        "\n",
        "    if fd.predict(A[i]) > 0 :\n",
        "      y[i] =  1\n",
        "    else:\n",
        "      y[i] = 0\n",
        "  return y"
      ]
    },
    {
      "cell_type": "code",
      "execution_count": null,
      "metadata": {
        "id": "wYJ89BIVEeHr"
      },
      "outputs": [],
      "source": [
        "print(predict(X_test_))"
      ]
    },
    {
      "cell_type": "code",
      "execution_count": null,
      "metadata": {
        "colab": {
          "base_uri": "https://localhost:8080/"
        },
        "id": "hArCWAz066CU",
        "outputId": "a9e5efe0-5438-4934-8fd2-3c2f2f988ebd"
      },
      "outputs": [
        {
          "data": {
            "text/plain": [
              "0.528169014084507"
            ]
          },
          "execution_count": 22,
          "metadata": {},
          "output_type": "execute_result"
        }
      ],
      "source": [
        "from sklearn.metrics import roc_auc_score\n",
        "\n",
        "roc_auc_score(y_test_,  fd.predict(X_test_))"
      ]
    },
    {
      "cell_type": "code",
      "execution_count": null,
      "metadata": {
        "id": "vx3UL8J9k2Eh"
      },
      "outputs": [],
      "source": [
        "X_test_  = np.vstack((X_test,  x_rff[indices_outliners]))\n",
        "y_test_ = np.vstack((y_test,  donnees['y'][indices_outliners]))"
      ]
    },
    {
      "cell_type": "code",
      "execution_count": null,
      "metadata": {
        "colab": {
          "base_uri": "https://localhost:8080/"
        },
        "id": "axsV32-2mTZT",
        "outputId": "7c6a7b8e-96c9-44e6-ef78-7974c91deac0"
      },
      "outputs": [
        {
          "data": {
            "text/plain": [
              "0.9345369117952075"
            ]
          },
          "execution_count": 55,
          "metadata": {},
          "output_type": "execute_result"
        }
      ],
      "source": [
        "from sklearn.metrics import roc_auc_score\n",
        "\n",
        "roc_auc_score(y_test_,  fd.predict(X_test_))"
      ]
    },
    {
      "cell_type": "markdown",
      "metadata": {
        "id": "SNUkXytuVJaf"
      },
      "source": [
        "Features selection\n"
      ]
    },
    {
      "cell_type": "code",
      "execution_count": null,
      "metadata": {
        "colab": {
          "base_uri": "https://localhost:8080/",
          "height": 331
        },
        "id": "d-Z5ouoxbohN",
        "outputId": "ca900070-569c-4d92-fff3-4e56a9cf3152"
      },
      "outputs": [
        {
          "name": "stderr",
          "output_type": "stream",
          "text": [
            "/usr/local/lib/python3.10/dist-packages/sklearn/cluster/_kmeans.py:870: FutureWarning: The default value of `n_init` will change from 10 to 'auto' in 1.4. Set the value of `n_init` explicitly to suppress the warning\n",
            "  warnings.warn(\n"
          ]
        },
        {
          "ename": "IndexError",
          "evalue": "index 2179 is out of bounds for axis 0 with size 100",
          "output_type": "error",
          "traceback": [
            "\u001b[0;31m---------------------------------------------------------------------------\u001b[0m",
            "\u001b[0;31mIndexError\u001b[0m                                Traceback (most recent call last)",
            "\u001b[0;32m<ipython-input-11-200a162e4864>\u001b[0m in \u001b[0;36m<cell line: 1>\u001b[0;34m()\u001b[0m\n\u001b[0;32m----> 1\u001b[0;31m \u001b[0mreduce_training_set\u001b[0m\u001b[0;34m(\u001b[0m\u001b[0mdonnees\u001b[0m\u001b[0;34m[\u001b[0m\u001b[0;34m'X'\u001b[0m\u001b[0;34m]\u001b[0m\u001b[0;34m,\u001b[0m \u001b[0;36m100\u001b[0m\u001b[0;34m)\u001b[0m\u001b[0;34m\u001b[0m\u001b[0;34m\u001b[0m\u001b[0m\n\u001b[0m",
            "\u001b[0;32m<ipython-input-4-05f872c6518b>\u001b[0m in \u001b[0;36mreduce_training_set\u001b[0;34m(X, k)\u001b[0m\n\u001b[1;32m     25\u001b[0m \u001b[0;34m\u001b[0m\u001b[0m\n\u001b[1;32m     26\u001b[0m         \u001b[0;31m# Step 5: Remove samples close to the farthest sample\u001b[0m\u001b[0;34m\u001b[0m\u001b[0;34m\u001b[0m\u001b[0m\n\u001b[0;32m---> 27\u001b[0;31m         \u001b[0mmask\u001b[0m \u001b[0;34m=\u001b[0m \u001b[0mnp\u001b[0m\u001b[0;34m.\u001b[0m\u001b[0mlinalg\u001b[0m\u001b[0;34m.\u001b[0m\u001b[0mnorm\u001b[0m\u001b[0;34m(\u001b[0m\u001b[0mX\u001b[0m \u001b[0;34m-\u001b[0m \u001b[0mreduced_sample\u001b[0m\u001b[0;34m,\u001b[0m \u001b[0maxis\u001b[0m\u001b[0;34m=\u001b[0m\u001b[0;36m1\u001b[0m\u001b[0;34m)\u001b[0m \u001b[0;34m>\u001b[0m \u001b[0mdistances\u001b[0m\u001b[0;34m[\u001b[0m\u001b[0mmax_distance_cluster_index\u001b[0m\u001b[0;34m]\u001b[0m\u001b[0;34m\u001b[0m\u001b[0;34m\u001b[0m\u001b[0m\n\u001b[0m\u001b[1;32m     28\u001b[0m         \u001b[0mX\u001b[0m \u001b[0;34m=\u001b[0m \u001b[0mX\u001b[0m\u001b[0;34m[\u001b[0m\u001b[0mmask\u001b[0m\u001b[0;34m]\u001b[0m\u001b[0;34m\u001b[0m\u001b[0;34m\u001b[0m\u001b[0m\n\u001b[1;32m     29\u001b[0m \u001b[0;34m\u001b[0m\u001b[0m\n",
            "\u001b[0;31mIndexError\u001b[0m: index 2179 is out of bounds for axis 0 with size 100"
          ]
        }
      ],
      "source": [
        "reduce_training_set(donnees['X'], 100)"
      ]
    },
    {
      "cell_type": "code",
      "execution_count": null,
      "metadata": {
        "id": "8mpkBEOtVIg0"
      },
      "outputs": [],
      "source": [
        "def normalized_data(data):\n",
        "\n",
        "    data_norm = (data - data.mean(numeric_only=True)) / data.std(numeric_only=True)\n",
        "    return data_norm\n",
        "\n",
        "def dist_euclidian(data):\n",
        "\n",
        "\n",
        "\n",
        "    # Convertir las columnas del dataframe en una matriz NumPy\n",
        "    data_mat = data\n",
        "\n",
        "    # Calcular las distancias euclidianas entre cada par de puntos\n",
        "    dist = np.sqrt(np.sum((data_mat[:, np.newaxis, :] - data_mat[np.newaxis, :, :]) ** 2, axis=-1))\n",
        "\n",
        "    return dist, data_mat\n",
        "\n",
        "def delete_Neighbor(data):\n",
        "    # Calcular la matriz de distancias euclidianas\n",
        "    dist, data_mat = dist_euclidian(data)\n",
        "\n",
        "    # Encontrar el índice del punto con la distancia euclidiana más corta\n",
        "    min_index = np.unravel_index(np.argmin(dist), dist.shape)\n",
        "\n",
        "    # Eliminar la fila y columna correspondientes al punto con la distancia euclidiana más corta\n",
        "    data_mat = np.delete(data_mat, min_index[0], axis=0)\n",
        "    data_mat = np.delete(data_mat, min_index[1], axis=1)\n",
        "\n",
        "    return data_mat"
      ]
    },
    {
      "cell_type": "code",
      "execution_count": null,
      "metadata": {
        "id": "Je6PvOwvNwmq"
      },
      "outputs": [],
      "source": [
        "data_mat =  delete_Neighbor(donnees['X'])"
      ]
    },
    {
      "cell_type": "code",
      "execution_count": null,
      "metadata": {
        "colab": {
          "base_uri": "https://localhost:8080/"
        },
        "id": "2oKhq1EJOfPJ",
        "outputId": "48292311-0272-4db0-9c08-6ac1b765d35e"
      },
      "outputs": [
        {
          "data": {
            "text/plain": [
              "(11183, 6)"
            ]
          },
          "execution_count": 9,
          "metadata": {},
          "output_type": "execute_result"
        }
      ],
      "source": [
        "donnees['X'].shape"
      ]
    },
    {
      "cell_type": "code",
      "execution_count": null,
      "metadata": {
        "colab": {
          "base_uri": "https://localhost:8080/"
        },
        "id": "EUE-BW0qOXOz",
        "outputId": "fdf3c677-5f14-4690-9d26-9ab2493ef502"
      },
      "outputs": [
        {
          "data": {
            "text/plain": [
              "(11182, 5)"
            ]
          },
          "execution_count": 8,
          "metadata": {},
          "output_type": "execute_result"
        }
      ],
      "source": [
        "data_mat.shape"
      ]
    },
    {
      "cell_type": "code",
      "execution_count": null,
      "metadata": {
        "id": "RymFkyn4XWGu"
      },
      "outputs": [],
      "source": [
        "from sklearn.metrics import roc_auc_score\n",
        "from sklearn.svm import OneClassSVM\n",
        "clf = OneClassSVM(gamma=420).fit(X_train)"
      ]
    },
    {
      "cell_type": "code",
      "execution_count": null,
      "metadata": {
        "id": "l-j6FI-W1NTc"
      },
      "outputs": [],
      "source": [
        "y_pred = clf.predict(X_test_)"
      ]
    },
    {
      "cell_type": "code",
      "execution_count": null,
      "metadata": {
        "colab": {
          "base_uri": "https://localhost:8080/"
        },
        "id": "bNIUnq2APVCa",
        "outputId": "3bd109a6-c4b5-4709-8096-77a58f65beea"
      },
      "outputs": [
        {
          "data": {
            "text/plain": [
              "0.5"
            ]
          },
          "execution_count": 17,
          "metadata": {},
          "output_type": "execute_result"
        }
      ],
      "source": [
        "from sklearn.metrics import roc_auc_score\n",
        "\n",
        "roc_auc_score(y_test_,  y_pred)"
      ]
    },
    {
      "cell_type": "code",
      "execution_count": null,
      "metadata": {
        "colab": {
          "base_uri": "https://localhost:8080/"
        },
        "id": "8_T-Y4bvPdmi",
        "outputId": "e7901bd4-f617-4197-89ca-3a0a0f865c51"
      },
      "outputs": [
        {
          "data": {
            "text/plain": [
              "59408"
            ]
          },
          "execution_count": 23,
          "metadata": {},
          "output_type": "execute_result"
        }
      ],
      "source": [
        "len(np.where(y_pred == -1)[0])"
      ]
    },
    {
      "cell_type": "code",
      "execution_count": null,
      "metadata": {
        "colab": {
          "base_uri": "https://localhost:8080/"
        },
        "id": "0z_OXSv5GfkZ",
        "outputId": "10ae2bd7-1815-46a6-9969-14c6f0f01602"
      },
      "outputs": [
        {
          "data": {
            "text/plain": [
              "2747"
            ]
          },
          "execution_count": 118,
          "metadata": {},
          "output_type": "execute_result"
        }
      ],
      "source": [
        "len(indices_outliners)"
      ]
    },
    {
      "cell_type": "code",
      "execution_count": null,
      "metadata": {
        "colab": {
          "base_uri": "https://localhost:8080/",
          "height": 1000
        },
        "id": "ZrwSEDzkKX7v",
        "outputId": "d26dbe0c-919d-4e54-ff79-5d8a7db6c2d3"
      },
      "outputs": [
        {
          "data": {
            "image/png": "[encoded data removed]",
            "text/plain": [
              "<Figure size 640x480 with 1 Axes>"
            ]
          },
          "metadata": {},
          "output_type": "display_data"
        },
        {
          "data": {
            "image/png": "[encoded data removed]",
            "text/plain": [
              "<Figure size 640x480 with 1 Axes>"
            ]
          },
          "metadata": {},
          "output_type": "display_data"
        },
        {
          "data": {
            "image/png": "[encoded data removed]",
            "text/plain": [
              "<Figure size 640x480 with 1 Axes>"
            ]
          },
          "metadata": {},
          "output_type": "display_data"
        },
        {
          "data": {
            "image/png": "[encoded data removed]",
            "text/plain": [
              "<Figure size 640x480 with 1 Axes>"
            ]
          },
          "metadata": {},
          "output_type": "display_data"
        }
      ],
      "source": [
        "data = pd.read_csv(\"/content/drive/MyDrive/IA326/project/sample_input.csv\", header=0)\n",
        "data = np.array(data)\n",
        "\n",
        "\n",
        "s = 0.8 # initialization with a random number between 0~1\n",
        "\n",
        "\n",
        "#################\n",
        "#  plot result  #\n",
        "#################\n",
        "plt.scatter(data[:, 0], data[:, 1], s=18)\n",
        "plt.title('Original Data')\n",
        "plt.savefig('original_data', dpi=300)\n",
        "plt.show()\n",
        "plt.scatter(fd.sv[:, 0], fd.sv[:, 1], s=18)\n",
        "plt.scatter(fd.sv[:, 0], fd.sv[:, 1], marker='*', s=18)\n",
        "plt.title('Support Vectors')\n",
        "plt.savefig('support_vectors', dpi=300)\n",
        "plt.show()\n",
        "plt.scatter(data[:, 0], data[:, 1], s=18)\n",
        "plt.scatter(fd.sv[:, 0], fd.sv[:, 1], marker='*', s=18)\n",
        "plt.title('Original Data with Support Vectors')\n",
        "plt.savefig('final_result', dpi=300)\n",
        "plt.show()\n",
        "plt.plot(fd.obj_val)\n",
        "plt.title('Objective Function Value')\n",
        "plt.savefig('obv', dpi=300)\n",
        "plt.show()"
      ]
    },
    {
      "cell_type": "code",
      "execution_count": null,
      "metadata": {
        "id": "KjwsDzfzXZ0D"
      },
      "outputs": [],
      "source": [
        "data = pd.read_csv(\"/content/drive/MyDrive/IA326/project/sample_input.csv\", header=0)\n",
        "data = np.array(data)\n",
        "data_rff = rff_gaussian(len(data[0]),  200, data, gamma= 0.8)\n",
        "\n",
        "fd =  FISVDD_rff(data)\n",
        "fd.train()\n"
      ]
    },
    {
      "cell_type": "code",
      "execution_count": null,
      "metadata": {
        "colab": {
          "base_uri": "https://localhost:8080/"
        },
        "id": "CU_MQLfG3kDL",
        "outputId": "1d4d7a98-795a-402d-ce55-2f129df29aff"
      },
      "outputs": [
        {
          "data": {
            "text/plain": [
              "-0.0015183258752389378"
            ]
          },
          "execution_count": 30,
          "metadata": {},
          "output_type": "execute_result"
        }
      ],
      "source": [
        "fd.predict(np.array([6, 2]))"
      ]
    },
    {
      "cell_type": "code",
      "execution_count": null,
      "metadata": {
        "colab": {
          "base_uri": "https://localhost:8080/"
        },
        "id": "1SiuyjmD3_mR",
        "outputId": "903081d0-18fd-4c49-8e71-73563cb066c2"
      },
      "outputs": [
        {
          "data": {
            "text/plain": [
              "array([1.])"
            ]
          },
          "execution_count": 57,
          "metadata": {},
          "output_type": "execute_result"
        }
      ],
      "source": []
    },
    {
      "cell_type": "code",
      "execution_count": null,
      "metadata": {
        "id": "0v_cst1TAlJt"
      },
      "outputs": [],
      "source": [
        "data  = np.random.normal(size = (100,2))"
      ]
    },
    {
      "cell_type": "code",
      "execution_count": null,
      "metadata": {
        "colab": {
          "base_uri": "https://localhost:8080/"
        },
        "id": "sLKdFwI3ko3_",
        "outputId": "50630271-3c19-4b2d-d5a5-59a1304df215"
      },
      "outputs": [
        {
          "data": {
            "text/plain": [
              "array([-0.0768116 , -0.83032229])"
            ]
          },
          "execution_count": 10,
          "metadata": {},
          "output_type": "execute_result"
        }
      ],
      "source": [
        "data[14]"
      ]
    },
    {
      "cell_type": "code",
      "execution_count": null,
      "metadata": {
        "id": "0LoM4c8lApK8"
      },
      "outputs": [],
      "source": [
        "data[14] = np.array([-4, 6])\n",
        "data[32] = np.array([9, -4])\n",
        "data[56] = np.array([7, 3])"
      ]
    },
    {
      "cell_type": "code",
      "execution_count": null,
      "metadata": {
        "id": "V9MKgfHLkoWN"
      },
      "outputs": [],
      "source": []
    },
    {
      "cell_type": "code",
      "execution_count": null,
      "metadata": {
        "id": "6vfJ_j9CYAG2"
      },
      "outputs": [],
      "source": [
        "fd = FISVDD(data, 1)"
      ]
    },
    {
      "cell_type": "code",
      "execution_count": null,
      "metadata": {
        "colab": {
          "base_uri": "https://localhost:8080/"
        },
        "id": "UxfZVBjuYPva",
        "outputId": "4bde7d2c-84d6-4301-8970-20dcfbb98284"
      },
      "outputs": [
        {
          "name": "stdout",
          "output_type": "stream",
          "text": [
            "Q =  -1\n",
            "Q =  -1\n",
            "Q =  -1\n",
            "Q =  -1\n",
            "Q =  -1\n",
            "Q =  -1\n"
          ]
        }
      ],
      "source": [
        "fd.train()"
      ]
    },
    {
      "cell_type": "code",
      "execution_count": null,
      "metadata": {
        "id": "j9UVrSor-69I"
      },
      "outputs": [],
      "source": []
    }
  ],
  "metadata": {
    "colab": {
      "provenance": []
    },
    "kernelspec": {
      "display_name": "Python 3",
      "name": "python3"
    },
    "language_info": {
      "name": "python"
    }
  },
  "nbformat": 4,
  "nbformat_minor": 0
}